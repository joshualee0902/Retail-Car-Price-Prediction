{
  "cells": [
    {
      "cell_type": "markdown",
      "metadata": {
        "id": "Gjq_uLUJkgux"
      },
      "source": [
        "\n",
        "# **CIS 5450 Final Project - Car Price Prediction**\n",
        "*By Alex Jung, Josh Lee, Grace Liu*"
      ]
    },
    {
      "cell_type": "markdown",
      "metadata": {
        "id": "1uklkHKLk3z6"
      },
      "source": [
        "# Part 1: Introduction\n",
        "For our final project, we sought to build a model that predicts the selling price of cars based on various features. We used a dataset from Kaggle to develop the model.\n",
        "\n",
        "We decided to call this dataset `cp_df` (car price data frame), which includes information about a car's make year, make, model, trim, body, transmission, vehicle identification number, state, condition, odometer, color, interior, seller, Manheim Market Report (estimated price), selilng price, and sale date. Based on these features and new information that we derived, we were able to understand both the quantitative and qualitative factors that affect a car's selling price.\n",
        "\n",
        "\n",
        "Below in our notebook, we provide a thorough overview of the results. We have added explanations to relevant findings or our motivations behind certain manipulations of the data.\n",
        "\n",
        "We hope this notebook can be an aid to your next car search."
      ]
    },
    {
      "cell_type": "markdown",
      "metadata": {
        "id": "w7aEWJOiuedU"
      },
      "source": [
        "# Part 2: Data Loading and Preprocessing"
      ]
    },
    {
      "cell_type": "markdown",
      "metadata": {
        "id": "Qwi6BDQKm0E5"
      },
      "source": [
        "## 2.1 Imports and Data Loading\n",
        "Before jumping into data manipulation, we sought to install dependencies and import libraries that will be necessary for future analysis."
      ]
    },
    {
      "cell_type": "code",
      "execution_count": null,
      "metadata": {
        "colab": {
          "base_uri": "https://localhost:8080/"
        },
        "id": "dGoPGON0atfZ",
        "outputId": "3d334613-5610-49b8-e6d4-c53ac47cbcf4"
      },
      "outputs": [
        {
          "name": "stdout",
          "output_type": "stream",
          "text": [
            "Requirement already satisfied: optuna in /usr/local/lib/python3.10/dist-packages (3.6.1)\n",
            "Requirement already satisfied: alembic>=1.5.0 in /usr/local/lib/python3.10/dist-packages (from optuna) (1.13.1)\n",
            "Requirement already satisfied: colorlog in /usr/local/lib/python3.10/dist-packages (from optuna) (6.8.2)\n",
            "Requirement already satisfied: numpy in /usr/local/lib/python3.10/dist-packages (from optuna) (1.25.2)\n",
            "Requirement already satisfied: packaging>=20.0 in /usr/local/lib/python3.10/dist-packages (from optuna) (24.0)\n",
            "Requirement already satisfied: sqlalchemy>=1.3.0 in /usr/local/lib/python3.10/dist-packages (from optuna) (2.0.29)\n",
            "Requirement already satisfied: tqdm in /usr/local/lib/python3.10/dist-packages (from optuna) (4.66.2)\n",
            "Requirement already satisfied: PyYAML in /usr/local/lib/python3.10/dist-packages (from optuna) (6.0.1)\n",
            "Requirement already satisfied: Mako in /usr/local/lib/python3.10/dist-packages (from alembic>=1.5.0->optuna) (1.3.3)\n",
            "Requirement already satisfied: typing-extensions>=4 in /usr/local/lib/python3.10/dist-packages (from alembic>=1.5.0->optuna) (4.11.0)\n",
            "Requirement already satisfied: greenlet!=0.4.17 in /usr/local/lib/python3.10/dist-packages (from sqlalchemy>=1.3.0->optuna) (3.0.3)\n",
            "Requirement already satisfied: MarkupSafe>=0.9.2 in /usr/local/lib/python3.10/dist-packages (from Mako->alembic>=1.5.0->optuna) (2.1.5)\n",
            "Requirement already satisfied: pandasql in /usr/local/lib/python3.10/dist-packages (0.7.3)\n",
            "Requirement already satisfied: numpy in /usr/local/lib/python3.10/dist-packages (from pandasql) (1.25.2)\n",
            "Requirement already satisfied: pandas in /usr/local/lib/python3.10/dist-packages (from pandasql) (2.0.3)\n",
            "Requirement already satisfied: sqlalchemy in /usr/local/lib/python3.10/dist-packages (from pandasql) (2.0.29)\n",
            "Requirement already satisfied: python-dateutil>=2.8.2 in /usr/local/lib/python3.10/dist-packages (from pandas->pandasql) (2.8.2)\n",
            "Requirement already satisfied: pytz>=2020.1 in /usr/local/lib/python3.10/dist-packages (from pandas->pandasql) (2023.4)\n",
            "Requirement already satisfied: tzdata>=2022.1 in /usr/local/lib/python3.10/dist-packages (from pandas->pandasql) (2024.1)\n",
            "Requirement already satisfied: typing-extensions>=4.6.0 in /usr/local/lib/python3.10/dist-packages (from sqlalchemy->pandasql) (4.11.0)\n",
            "Requirement already satisfied: greenlet!=0.4.17 in /usr/local/lib/python3.10/dist-packages (from sqlalchemy->pandasql) (3.0.3)\n",
            "Requirement already satisfied: six>=1.5 in /usr/local/lib/python3.10/dist-packages (from python-dateutil>=2.8.2->pandas->pandasql) (1.16.0)\n"
          ]
        }
      ],
      "source": [
        "!pip install optuna\n",
        "!pip install pandasql"
      ]
    },
    {
      "cell_type": "code",
      "execution_count": null,
      "metadata": {
        "id": "yLEeWLOHqShi"
      },
      "outputs": [],
      "source": [
        "# Import necessary packages\n",
        "import numpy as np\n",
        "import pandas as pd\n",
        "import pandasql as ps\n",
        "import seaborn as sns\n",
        "import matplotlib.pyplot as plt\n",
        "import plotly.express as px\n",
        "import optuna\n",
        "from scipy import stats\n",
        "from scipy.stats import spearmanr, uniform\n",
        "from sklearn.neighbors import KNeighborsClassifier\n",
        "from sklearn.linear_model import LinearRegression, LogisticRegression, Lasso, Ridge\n",
        "from sklearn.model_selection import train_test_split, GridSearchCV, StratifiedKFold, RandomizedSearchCV\n",
        "from sklearn.metrics import accuracy_score, precision_score, recall_score, mean_absolute_error, mean_squared_error, r2_score\n",
        "from sklearn.preprocessing import OneHotEncoder, OrdinalEncoder, StandardScaler, LabelEncoder, MinMaxScaler\n",
        "from imblearn.over_sampling import SMOTE\n",
        "from sklearn.decomposition import PCA\n",
        "from pandas.plotting import scatter_matrix\n",
        "from sklearn.ensemble import RandomForestRegressor, GradientBoostingRegressor"
      ]
    },
    {
      "cell_type": "markdown",
      "metadata": {
        "id": "a9RESH4Xt6XI"
      },
      "source": [
        "We mount the local google drive to the current runtime and create a kaggle directory, which will pull our dataset from the Kaggle website."
      ]
    },
    {
      "cell_type": "code",
      "execution_count": null,
      "metadata": {
        "colab": {
          "base_uri": "https://localhost:8080/"
        },
        "id": "yGNrZ9icrgsW",
        "outputId": "b4fe7aa0-4cbf-4c9b-95d9-493b28af5f18"
      },
      "outputs": [
        {
          "name": "stdout",
          "output_type": "stream",
          "text": [
            "Drive already mounted at /content/drive; to attempt to forcibly remount, call drive.mount(\"/content/drive\", force_remount=True).\n"
          ]
        }
      ],
      "source": [
        "# Mount drive\n",
        "from google.colab import drive\n",
        "drive.mount('/content/drive')"
      ]
    },
    {
      "cell_type": "code",
      "execution_count": null,
      "metadata": {
        "id": "YM4uinCGrpFG"
      },
      "outputs": [],
      "source": [
        "# Create the kaggle directory\n",
        "!mkdir -p ~/.kaggle"
      ]
    },
    {
      "cell_type": "code",
      "execution_count": null,
      "metadata": {
        "id": "uj_ttum_rrx0"
      },
      "outputs": [],
      "source": [
        "# Read the uploaded kaggle.json file\n",
        "!cp /content/drive/MyDrive/kaggle.json ~/.kaggle/"
      ]
    },
    {
      "cell_type": "code",
      "execution_count": null,
      "metadata": {
        "colab": {
          "base_uri": "https://localhost:8080/"
        },
        "id": "BtA7Spy0ru6V",
        "outputId": "c2661f6b-1e0b-4077-9278-2bbce97611d4"
      },
      "outputs": [
        {
          "name": "stdout",
          "output_type": "stream",
          "text": [
            "Dataset URL: https://www.kaggle.com/datasets/syedanwarafridi/vehicle-sales-data\n",
            "License(s): MIT\n",
            "vehicle-sales-data.zip: Skipping, found more recently modified local copy (use --force to force download)\n"
          ]
        }
      ],
      "source": [
        "# Download dataset\n",
        "!kaggle datasets download -d syedanwarafridi/vehicle-sales-data"
      ]
    },
    {
      "cell_type": "code",
      "execution_count": null,
      "metadata": {
        "colab": {
          "background_save": true,
          "base_uri": "https://localhost:8080/"
        },
        "id": "FsN6qSMCr9Hv",
        "outputId": "dcf31069-22c6-4e10-e1d1-e56c37f46981"
      },
      "outputs": [
        {
          "name": "stdout",
          "output_type": "stream",
          "text": [
            "Archive:  /content/vehicle-sales-data.zip\n",
            "replace car_prices.csv? [y]es, [n]o, [A]ll, [N]one, [r]ename: "
          ]
        }
      ],
      "source": [
        "# Unzip folder in Colab content folder\n",
        "!unzip /content/vehicle-sales-data.zip"
      ]
    },
    {
      "cell_type": "markdown",
      "metadata": {
        "id": "ejHicTxAm9JJ"
      },
      "source": [
        "## 2.2 Data Cleaning and Basic Analysis\n",
        "\n",
        "We first seek to look into the dataset by observing its columns and the types of values they contain."
      ]
    },
    {
      "cell_type": "code",
      "execution_count": null,
      "metadata": {
        "colab": {
          "base_uri": "https://localhost:8080/",
          "height": 206
        },
        "id": "mChYVZ24q5cj",
        "outputId": "2611f6f9-731d-4b4f-9980-9f77cdef6a2f"
      },
      "outputs": [
        {
          "data": {
            "application/vnd.google.colaboratory.intrinsic+json": {
              "type": "dataframe",
              "variable_name": "cp_df"
            },
            "text/html": [
              "\n",
              "  <div id=\"df-894537b9-6262-4c52-965a-5eee9063f762\" class=\"colab-df-container\">\n",
              "    <div>\n",
              "<style scoped>\n",
              "    .dataframe tbody tr th:only-of-type {\n",
              "        vertical-align: middle;\n",
              "    }\n",
              "\n",
              "    .dataframe tbody tr th {\n",
              "        vertical-align: top;\n",
              "    }\n",
              "\n",
              "    .dataframe thead th {\n",
              "        text-align: right;\n",
              "    }\n",
              "</style>\n",
              "<table border=\"1\" class=\"dataframe\">\n",
              "  <thead>\n",
              "    <tr style=\"text-align: right;\">\n",
              "      <th></th>\n",
              "      <th>year</th>\n",
              "      <th>make</th>\n",
              "      <th>model</th>\n",
              "      <th>trim</th>\n",
              "      <th>body</th>\n",
              "      <th>transmission</th>\n",
              "      <th>vin</th>\n",
              "      <th>state</th>\n",
              "      <th>condition</th>\n",
              "      <th>odometer</th>\n",
              "      <th>color</th>\n",
              "      <th>interior</th>\n",
              "      <th>seller</th>\n",
              "      <th>mmr</th>\n",
              "      <th>sellingprice</th>\n",
              "      <th>saledate</th>\n",
              "    </tr>\n",
              "  </thead>\n",
              "  <tbody>\n",
              "    <tr>\n",
              "      <th>0</th>\n",
              "      <td>2015</td>\n",
              "      <td>Kia</td>\n",
              "      <td>Sorento</td>\n",
              "      <td>LX</td>\n",
              "      <td>SUV</td>\n",
              "      <td>automatic</td>\n",
              "      <td>5xyktca69fg566472</td>\n",
              "      <td>ca</td>\n",
              "      <td>5.0</td>\n",
              "      <td>16639.0</td>\n",
              "      <td>white</td>\n",
              "      <td>black</td>\n",
              "      <td>kia motors america  inc</td>\n",
              "      <td>20500.0</td>\n",
              "      <td>21500.0</td>\n",
              "      <td>Tue Dec 16 2014 12:30:00 GMT-0800 (PST)</td>\n",
              "    </tr>\n",
              "    <tr>\n",
              "      <th>1</th>\n",
              "      <td>2015</td>\n",
              "      <td>Kia</td>\n",
              "      <td>Sorento</td>\n",
              "      <td>LX</td>\n",
              "      <td>SUV</td>\n",
              "      <td>automatic</td>\n",
              "      <td>5xyktca69fg561319</td>\n",
              "      <td>ca</td>\n",
              "      <td>5.0</td>\n",
              "      <td>9393.0</td>\n",
              "      <td>white</td>\n",
              "      <td>beige</td>\n",
              "      <td>kia motors america  inc</td>\n",
              "      <td>20800.0</td>\n",
              "      <td>21500.0</td>\n",
              "      <td>Tue Dec 16 2014 12:30:00 GMT-0800 (PST)</td>\n",
              "    </tr>\n",
              "    <tr>\n",
              "      <th>2</th>\n",
              "      <td>2014</td>\n",
              "      <td>BMW</td>\n",
              "      <td>3 Series</td>\n",
              "      <td>328i SULEV</td>\n",
              "      <td>Sedan</td>\n",
              "      <td>automatic</td>\n",
              "      <td>wba3c1c51ek116351</td>\n",
              "      <td>ca</td>\n",
              "      <td>45.0</td>\n",
              "      <td>1331.0</td>\n",
              "      <td>gray</td>\n",
              "      <td>black</td>\n",
              "      <td>financial services remarketing (lease)</td>\n",
              "      <td>31900.0</td>\n",
              "      <td>30000.0</td>\n",
              "      <td>Thu Jan 15 2015 04:30:00 GMT-0800 (PST)</td>\n",
              "    </tr>\n",
              "    <tr>\n",
              "      <th>3</th>\n",
              "      <td>2015</td>\n",
              "      <td>Volvo</td>\n",
              "      <td>S60</td>\n",
              "      <td>T5</td>\n",
              "      <td>Sedan</td>\n",
              "      <td>automatic</td>\n",
              "      <td>yv1612tb4f1310987</td>\n",
              "      <td>ca</td>\n",
              "      <td>41.0</td>\n",
              "      <td>14282.0</td>\n",
              "      <td>white</td>\n",
              "      <td>black</td>\n",
              "      <td>volvo na rep/world omni</td>\n",
              "      <td>27500.0</td>\n",
              "      <td>27750.0</td>\n",
              "      <td>Thu Jan 29 2015 04:30:00 GMT-0800 (PST)</td>\n",
              "    </tr>\n",
              "    <tr>\n",
              "      <th>4</th>\n",
              "      <td>2014</td>\n",
              "      <td>BMW</td>\n",
              "      <td>6 Series Gran Coupe</td>\n",
              "      <td>650i</td>\n",
              "      <td>Sedan</td>\n",
              "      <td>automatic</td>\n",
              "      <td>wba6b2c57ed129731</td>\n",
              "      <td>ca</td>\n",
              "      <td>43.0</td>\n",
              "      <td>2641.0</td>\n",
              "      <td>gray</td>\n",
              "      <td>black</td>\n",
              "      <td>financial services remarketing (lease)</td>\n",
              "      <td>66000.0</td>\n",
              "      <td>67000.0</td>\n",
              "      <td>Thu Dec 18 2014 12:30:00 GMT-0800 (PST)</td>\n",
              "    </tr>\n",
              "  </tbody>\n",
              "</table>\n",
              "</div>\n",
              "    <div class=\"colab-df-buttons\">\n",
              "\n",
              "  <div class=\"colab-df-container\">\n",
              "    <button class=\"colab-df-convert\" onclick=\"convertToInteractive('df-894537b9-6262-4c52-965a-5eee9063f762')\"\n",
              "            title=\"Convert this dataframe to an interactive table.\"\n",
              "            style=\"display:none;\">\n",
              "\n",
              "  <svg xmlns=\"http://www.w3.org/2000/svg\" height=\"24px\" viewBox=\"0 -960 960 960\">\n",
              "    <path d=\"M120-120v-720h720v720H120Zm60-500h600v-160H180v160Zm220 220h160v-160H400v160Zm0 220h160v-160H400v160ZM180-400h160v-160H180v160Zm440 0h160v-160H620v160ZM180-180h160v-160H180v160Zm440 0h160v-160H620v160Z\"/>\n",
              "  </svg>\n",
              "    </button>\n",
              "\n",
              "  <style>\n",
              "    .colab-df-container {\n",
              "      display:flex;\n",
              "      gap: 12px;\n",
              "    }\n",
              "\n",
              "    .colab-df-convert {\n",
              "      background-color: #E8F0FE;\n",
              "      border: none;\n",
              "      border-radius: 50%;\n",
              "      cursor: pointer;\n",
              "      display: none;\n",
              "      fill: #1967D2;\n",
              "      height: 32px;\n",
              "      padding: 0 0 0 0;\n",
              "      width: 32px;\n",
              "    }\n",
              "\n",
              "    .colab-df-convert:hover {\n",
              "      background-color: #E2EBFA;\n",
              "      box-shadow: 0px 1px 2px rgba(60, 64, 67, 0.3), 0px 1px 3px 1px rgba(60, 64, 67, 0.15);\n",
              "      fill: #174EA6;\n",
              "    }\n",
              "\n",
              "    .colab-df-buttons div {\n",
              "      margin-bottom: 4px;\n",
              "    }\n",
              "\n",
              "    [theme=dark] .colab-df-convert {\n",
              "      background-color: #3B4455;\n",
              "      fill: #D2E3FC;\n",
              "    }\n",
              "\n",
              "    [theme=dark] .colab-df-convert:hover {\n",
              "      background-color: #434B5C;\n",
              "      box-shadow: 0px 1px 3px 1px rgba(0, 0, 0, 0.15);\n",
              "      filter: drop-shadow(0px 1px 2px rgba(0, 0, 0, 0.3));\n",
              "      fill: #FFFFFF;\n",
              "    }\n",
              "  </style>\n",
              "\n",
              "    <script>\n",
              "      const buttonEl =\n",
              "        document.querySelector('#df-894537b9-6262-4c52-965a-5eee9063f762 button.colab-df-convert');\n",
              "      buttonEl.style.display =\n",
              "        google.colab.kernel.accessAllowed ? 'block' : 'none';\n",
              "\n",
              "      async function convertToInteractive(key) {\n",
              "        const element = document.querySelector('#df-894537b9-6262-4c52-965a-5eee9063f762');\n",
              "        const dataTable =\n",
              "          await google.colab.kernel.invokeFunction('convertToInteractive',\n",
              "                                                    [key], {});\n",
              "        if (!dataTable) return;\n",
              "\n",
              "        const docLinkHtml = 'Like what you see? Visit the ' +\n",
              "          '<a target=\"_blank\" href=https://colab.research.google.com/notebooks/data_table.ipynb>data table notebook</a>'\n",
              "          + ' to learn more about interactive tables.';\n",
              "        element.innerHTML = '';\n",
              "        dataTable['output_type'] = 'display_data';\n",
              "        await google.colab.output.renderOutput(dataTable, element);\n",
              "        const docLink = document.createElement('div');\n",
              "        docLink.innerHTML = docLinkHtml;\n",
              "        element.appendChild(docLink);\n",
              "      }\n",
              "    </script>\n",
              "  </div>\n",
              "\n",
              "\n",
              "<div id=\"df-1508e83d-7b34-4e1c-80e4-f7aa295f2c4f\">\n",
              "  <button class=\"colab-df-quickchart\" onclick=\"quickchart('df-1508e83d-7b34-4e1c-80e4-f7aa295f2c4f')\"\n",
              "            title=\"Suggest charts\"\n",
              "            style=\"display:none;\">\n",
              "\n",
              "<svg xmlns=\"http://www.w3.org/2000/svg\" height=\"24px\"viewBox=\"0 0 24 24\"\n",
              "     width=\"24px\">\n",
              "    <g>\n",
              "        <path d=\"M19 3H5c-1.1 0-2 .9-2 2v14c0 1.1.9 2 2 2h14c1.1 0 2-.9 2-2V5c0-1.1-.9-2-2-2zM9 17H7v-7h2v7zm4 0h-2V7h2v10zm4 0h-2v-4h2v4z\"/>\n",
              "    </g>\n",
              "</svg>\n",
              "  </button>\n",
              "\n",
              "<style>\n",
              "  .colab-df-quickchart {\n",
              "      --bg-color: #E8F0FE;\n",
              "      --fill-color: #1967D2;\n",
              "      --hover-bg-color: #E2EBFA;\n",
              "      --hover-fill-color: #174EA6;\n",
              "      --disabled-fill-color: #AAA;\n",
              "      --disabled-bg-color: #DDD;\n",
              "  }\n",
              "\n",
              "  [theme=dark] .colab-df-quickchart {\n",
              "      --bg-color: #3B4455;\n",
              "      --fill-color: #D2E3FC;\n",
              "      --hover-bg-color: #434B5C;\n",
              "      --hover-fill-color: #FFFFFF;\n",
              "      --disabled-bg-color: #3B4455;\n",
              "      --disabled-fill-color: #666;\n",
              "  }\n",
              "\n",
              "  .colab-df-quickchart {\n",
              "    background-color: var(--bg-color);\n",
              "    border: none;\n",
              "    border-radius: 50%;\n",
              "    cursor: pointer;\n",
              "    display: none;\n",
              "    fill: var(--fill-color);\n",
              "    height: 32px;\n",
              "    padding: 0;\n",
              "    width: 32px;\n",
              "  }\n",
              "\n",
              "  .colab-df-quickchart:hover {\n",
              "    background-color: var(--hover-bg-color);\n",
              "    box-shadow: 0 1px 2px rgba(60, 64, 67, 0.3), 0 1px 3px 1px rgba(60, 64, 67, 0.15);\n",
              "    fill: var(--button-hover-fill-color);\n",
              "  }\n",
              "\n",
              "  .colab-df-quickchart-complete:disabled,\n",
              "  .colab-df-quickchart-complete:disabled:hover {\n",
              "    background-color: var(--disabled-bg-color);\n",
              "    fill: var(--disabled-fill-color);\n",
              "    box-shadow: none;\n",
              "  }\n",
              "\n",
              "  .colab-df-spinner {\n",
              "    border: 2px solid var(--fill-color);\n",
              "    border-color: transparent;\n",
              "    border-bottom-color: var(--fill-color);\n",
              "    animation:\n",
              "      spin 1s steps(1) infinite;\n",
              "  }\n",
              "\n",
              "  @keyframes spin {\n",
              "    0% {\n",
              "      border-color: transparent;\n",
              "      border-bottom-color: var(--fill-color);\n",
              "      border-left-color: var(--fill-color);\n",
              "    }\n",
              "    20% {\n",
              "      border-color: transparent;\n",
              "      border-left-color: var(--fill-color);\n",
              "      border-top-color: var(--fill-color);\n",
              "    }\n",
              "    30% {\n",
              "      border-color: transparent;\n",
              "      border-left-color: var(--fill-color);\n",
              "      border-top-color: var(--fill-color);\n",
              "      border-right-color: var(--fill-color);\n",
              "    }\n",
              "    40% {\n",
              "      border-color: transparent;\n",
              "      border-right-color: var(--fill-color);\n",
              "      border-top-color: var(--fill-color);\n",
              "    }\n",
              "    60% {\n",
              "      border-color: transparent;\n",
              "      border-right-color: var(--fill-color);\n",
              "    }\n",
              "    80% {\n",
              "      border-color: transparent;\n",
              "      border-right-color: var(--fill-color);\n",
              "      border-bottom-color: var(--fill-color);\n",
              "    }\n",
              "    90% {\n",
              "      border-color: transparent;\n",
              "      border-bottom-color: var(--fill-color);\n",
              "    }\n",
              "  }\n",
              "</style>\n",
              "\n",
              "  <script>\n",
              "    async function quickchart(key) {\n",
              "      const quickchartButtonEl =\n",
              "        document.querySelector('#' + key + ' button');\n",
              "      quickchartButtonEl.disabled = true;  // To prevent multiple clicks.\n",
              "      quickchartButtonEl.classList.add('colab-df-spinner');\n",
              "      try {\n",
              "        const charts = await google.colab.kernel.invokeFunction(\n",
              "            'suggestCharts', [key], {});\n",
              "      } catch (error) {\n",
              "        console.error('Error during call to suggestCharts:', error);\n",
              "      }\n",
              "      quickchartButtonEl.classList.remove('colab-df-spinner');\n",
              "      quickchartButtonEl.classList.add('colab-df-quickchart-complete');\n",
              "    }\n",
              "    (() => {\n",
              "      let quickchartButtonEl =\n",
              "        document.querySelector('#df-1508e83d-7b34-4e1c-80e4-f7aa295f2c4f button');\n",
              "      quickchartButtonEl.style.display =\n",
              "        google.colab.kernel.accessAllowed ? 'block' : 'none';\n",
              "    })();\n",
              "  </script>\n",
              "</div>\n",
              "    </div>\n",
              "  </div>\n"
            ],
            "text/plain": [
              "   year   make                model        trim   body transmission  \\\n",
              "0  2015    Kia              Sorento          LX    SUV    automatic   \n",
              "1  2015    Kia              Sorento          LX    SUV    automatic   \n",
              "2  2014    BMW             3 Series  328i SULEV  Sedan    automatic   \n",
              "3  2015  Volvo                  S60          T5  Sedan    automatic   \n",
              "4  2014    BMW  6 Series Gran Coupe        650i  Sedan    automatic   \n",
              "\n",
              "                 vin state  condition  odometer  color interior  \\\n",
              "0  5xyktca69fg566472    ca        5.0   16639.0  white    black   \n",
              "1  5xyktca69fg561319    ca        5.0    9393.0  white    beige   \n",
              "2  wba3c1c51ek116351    ca       45.0    1331.0   gray    black   \n",
              "3  yv1612tb4f1310987    ca       41.0   14282.0  white    black   \n",
              "4  wba6b2c57ed129731    ca       43.0    2641.0   gray    black   \n",
              "\n",
              "                                   seller      mmr  sellingprice  \\\n",
              "0                 kia motors america  inc  20500.0       21500.0   \n",
              "1                 kia motors america  inc  20800.0       21500.0   \n",
              "2  financial services remarketing (lease)  31900.0       30000.0   \n",
              "3                 volvo na rep/world omni  27500.0       27750.0   \n",
              "4  financial services remarketing (lease)  66000.0       67000.0   \n",
              "\n",
              "                                  saledate  \n",
              "0  Tue Dec 16 2014 12:30:00 GMT-0800 (PST)  \n",
              "1  Tue Dec 16 2014 12:30:00 GMT-0800 (PST)  \n",
              "2  Thu Jan 15 2015 04:30:00 GMT-0800 (PST)  \n",
              "3  Thu Jan 29 2015 04:30:00 GMT-0800 (PST)  \n",
              "4  Thu Dec 18 2014 12:30:00 GMT-0800 (PST)  "
            ]
          },
          "execution_count": 35,
          "metadata": {},
          "output_type": "execute_result"
        }
      ],
      "source": [
        "# Read the csv file and save it to a dataframe called \"cp_df\"\n",
        "cp_df = pd.read_csv(\"car_prices.csv\")\n",
        "# Check out the first five rows\n",
        "cp_df.head()"
      ]
    },
    {
      "cell_type": "markdown",
      "metadata": {
        "id": "-OXaiwJquBAz"
      },
      "source": [
        "To get an overview of the numerical and categorical variables and make sure that the column data types align with our expectations, we call the `info()` function on `cp_df`.\n"
      ]
    },
    {
      "cell_type": "code",
      "execution_count": null,
      "metadata": {
        "colab": {
          "base_uri": "https://localhost:8080/"
        },
        "id": "njO4UanUq-W7",
        "outputId": "59e2e71c-320f-405e-bbac-503531ff8758"
      },
      "outputs": [
        {
          "name": "stdout",
          "output_type": "stream",
          "text": [
            "<class 'pandas.core.frame.DataFrame'>\n",
            "RangeIndex: 558837 entries, 0 to 558836\n",
            "Data columns (total 16 columns):\n",
            " #   Column        Non-Null Count   Dtype  \n",
            "---  ------        --------------   -----  \n",
            " 0   year          558837 non-null  int64  \n",
            " 1   make          548536 non-null  object \n",
            " 2   model         548438 non-null  object \n",
            " 3   trim          548186 non-null  object \n",
            " 4   body          545642 non-null  object \n",
            " 5   transmission  493485 non-null  object \n",
            " 6   vin           558833 non-null  object \n",
            " 7   state         558837 non-null  object \n",
            " 8   condition     547017 non-null  float64\n",
            " 9   odometer      558743 non-null  float64\n",
            " 10  color         558088 non-null  object \n",
            " 11  interior      558088 non-null  object \n",
            " 12  seller        558837 non-null  object \n",
            " 13  mmr           558799 non-null  float64\n",
            " 14  sellingprice  558825 non-null  float64\n",
            " 15  saledate      558825 non-null  object \n",
            "dtypes: float64(4), int64(1), object(11)\n",
            "memory usage: 68.2+ MB\n"
          ]
        }
      ],
      "source": [
        "#Check out the column types and shape of the dataframe\n",
        "cp_df.info()"
      ]
    },
    {
      "cell_type": "markdown",
      "metadata": {
        "id": "ICW9BTIFuDT9"
      },
      "source": [
        "For the numerical variables, we call the `describe()` function in hopes of getting insights from the summary statistics"
      ]
    },
    {
      "cell_type": "code",
      "execution_count": null,
      "metadata": {
        "colab": {
          "base_uri": "https://localhost:8080/",
          "height": 300
        },
        "id": "BYa4PshDnXFM",
        "outputId": "27a10e98-ed84-4a5a-bc65-5fee4b16b895"
      },
      "outputs": [
        {
          "data": {
            "application/vnd.google.colaboratory.intrinsic+json": {
              "summary": "{\n  \"name\": \"cp_df\",\n  \"rows\": 8,\n  \"fields\": [\n    {\n      \"column\": \"year\",\n      \"properties\": {\n        \"dtype\": \"number\",\n        \"std\": 196971.6992455478,\n        \"min\": 3.9668636154044545,\n        \"max\": 558837.0,\n        \"num_unique_values\": 8,\n        \"samples\": [\n          2010.038927272174,\n          2012.0,\n          558837.0\n        ],\n        \"semantic_type\": \"\",\n        \"description\": \"\"\n      }\n    },\n    {\n      \"column\": \"condition\",\n      \"properties\": {\n        \"dtype\": \"number\",\n        \"std\": 193389.9133974846,\n        \"min\": 1.0,\n        \"max\": 547017.0,\n        \"num_unique_values\": 8,\n        \"samples\": [\n          30.672364844237016,\n          35.0,\n          547017.0\n        ],\n        \"semantic_type\": \"\",\n        \"description\": \"\"\n      }\n    },\n    {\n      \"column\": \"odometer\",\n      \"properties\": {\n        \"dtype\": \"number\",\n        \"std\": 358673.71102008765,\n        \"min\": 1.0,\n        \"max\": 999999.0,\n        \"num_unique_values\": 8,\n        \"samples\": [\n          68320.01776666554,\n          52254.0,\n          558743.0\n        ],\n        \"semantic_type\": \"\",\n        \"description\": \"\"\n      }\n    },\n    {\n      \"column\": \"mmr\",\n      \"properties\": {\n        \"dtype\": \"number\",\n        \"std\": 194867.66634471779,\n        \"min\": 25.0,\n        \"max\": 558799.0,\n        \"num_unique_values\": 8,\n        \"samples\": [\n          13769.377495306899,\n          12250.0,\n          558799.0\n        ],\n        \"semantic_type\": \"\",\n        \"description\": \"\"\n      }\n    },\n    {\n      \"column\": \"sellingprice\",\n      \"properties\": {\n        \"dtype\": \"number\",\n        \"std\": 198497.4658568329,\n        \"min\": 1.0,\n        \"max\": 558825.0,\n        \"num_unique_values\": 8,\n        \"samples\": [\n          13611.358810003132,\n          12100.0,\n          558825.0\n        ],\n        \"semantic_type\": \"\",\n        \"description\": \"\"\n      }\n    }\n  ]\n}",
              "type": "dataframe"
            },
            "text/html": [
              "\n",
              "  <div id=\"df-867bf0ba-643b-4d0a-adf1-a0c5ffe7d9ad\" class=\"colab-df-container\">\n",
              "    <div>\n",
              "<style scoped>\n",
              "    .dataframe tbody tr th:only-of-type {\n",
              "        vertical-align: middle;\n",
              "    }\n",
              "\n",
              "    .dataframe tbody tr th {\n",
              "        vertical-align: top;\n",
              "    }\n",
              "\n",
              "    .dataframe thead th {\n",
              "        text-align: right;\n",
              "    }\n",
              "</style>\n",
              "<table border=\"1\" class=\"dataframe\">\n",
              "  <thead>\n",
              "    <tr style=\"text-align: right;\">\n",
              "      <th></th>\n",
              "      <th>year</th>\n",
              "      <th>condition</th>\n",
              "      <th>odometer</th>\n",
              "      <th>mmr</th>\n",
              "      <th>sellingprice</th>\n",
              "    </tr>\n",
              "  </thead>\n",
              "  <tbody>\n",
              "    <tr>\n",
              "      <th>count</th>\n",
              "      <td>558837.000000</td>\n",
              "      <td>547017.000000</td>\n",
              "      <td>558743.000000</td>\n",
              "      <td>558799.000000</td>\n",
              "      <td>558825.000000</td>\n",
              "    </tr>\n",
              "    <tr>\n",
              "      <th>mean</th>\n",
              "      <td>2010.038927</td>\n",
              "      <td>30.672365</td>\n",
              "      <td>68320.017767</td>\n",
              "      <td>13769.377495</td>\n",
              "      <td>13611.358810</td>\n",
              "    </tr>\n",
              "    <tr>\n",
              "      <th>std</th>\n",
              "      <td>3.966864</td>\n",
              "      <td>13.402832</td>\n",
              "      <td>53398.542821</td>\n",
              "      <td>9679.967174</td>\n",
              "      <td>9749.501628</td>\n",
              "    </tr>\n",
              "    <tr>\n",
              "      <th>min</th>\n",
              "      <td>1982.000000</td>\n",
              "      <td>1.000000</td>\n",
              "      <td>1.000000</td>\n",
              "      <td>25.000000</td>\n",
              "      <td>1.000000</td>\n",
              "    </tr>\n",
              "    <tr>\n",
              "      <th>25%</th>\n",
              "      <td>2007.000000</td>\n",
              "      <td>23.000000</td>\n",
              "      <td>28371.000000</td>\n",
              "      <td>7100.000000</td>\n",
              "      <td>6900.000000</td>\n",
              "    </tr>\n",
              "    <tr>\n",
              "      <th>50%</th>\n",
              "      <td>2012.000000</td>\n",
              "      <td>35.000000</td>\n",
              "      <td>52254.000000</td>\n",
              "      <td>12250.000000</td>\n",
              "      <td>12100.000000</td>\n",
              "    </tr>\n",
              "    <tr>\n",
              "      <th>75%</th>\n",
              "      <td>2013.000000</td>\n",
              "      <td>42.000000</td>\n",
              "      <td>99109.000000</td>\n",
              "      <td>18300.000000</td>\n",
              "      <td>18200.000000</td>\n",
              "    </tr>\n",
              "    <tr>\n",
              "      <th>max</th>\n",
              "      <td>2015.000000</td>\n",
              "      <td>49.000000</td>\n",
              "      <td>999999.000000</td>\n",
              "      <td>182000.000000</td>\n",
              "      <td>230000.000000</td>\n",
              "    </tr>\n",
              "  </tbody>\n",
              "</table>\n",
              "</div>\n",
              "    <div class=\"colab-df-buttons\">\n",
              "\n",
              "  <div class=\"colab-df-container\">\n",
              "    <button class=\"colab-df-convert\" onclick=\"convertToInteractive('df-867bf0ba-643b-4d0a-adf1-a0c5ffe7d9ad')\"\n",
              "            title=\"Convert this dataframe to an interactive table.\"\n",
              "            style=\"display:none;\">\n",
              "\n",
              "  <svg xmlns=\"http://www.w3.org/2000/svg\" height=\"24px\" viewBox=\"0 -960 960 960\">\n",
              "    <path d=\"M120-120v-720h720v720H120Zm60-500h600v-160H180v160Zm220 220h160v-160H400v160Zm0 220h160v-160H400v160ZM180-400h160v-160H180v160Zm440 0h160v-160H620v160ZM180-180h160v-160H180v160Zm440 0h160v-160H620v160Z\"/>\n",
              "  </svg>\n",
              "    </button>\n",
              "\n",
              "  <style>\n",
              "    .colab-df-container {\n",
              "      display:flex;\n",
              "      gap: 12px;\n",
              "    }\n",
              "\n",
              "    .colab-df-convert {\n",
              "      background-color: #E8F0FE;\n",
              "      border: none;\n",
              "      border-radius: 50%;\n",
              "      cursor: pointer;\n",
              "      display: none;\n",
              "      fill: #1967D2;\n",
              "      height: 32px;\n",
              "      padding: 0 0 0 0;\n",
              "      width: 32px;\n",
              "    }\n",
              "\n",
              "    .colab-df-convert:hover {\n",
              "      background-color: #E2EBFA;\n",
              "      box-shadow: 0px 1px 2px rgba(60, 64, 67, 0.3), 0px 1px 3px 1px rgba(60, 64, 67, 0.15);\n",
              "      fill: #174EA6;\n",
              "    }\n",
              "\n",
              "    .colab-df-buttons div {\n",
              "      margin-bottom: 4px;\n",
              "    }\n",
              "\n",
              "    [theme=dark] .colab-df-convert {\n",
              "      background-color: #3B4455;\n",
              "      fill: #D2E3FC;\n",
              "    }\n",
              "\n",
              "    [theme=dark] .colab-df-convert:hover {\n",
              "      background-color: #434B5C;\n",
              "      box-shadow: 0px 1px 3px 1px rgba(0, 0, 0, 0.15);\n",
              "      filter: drop-shadow(0px 1px 2px rgba(0, 0, 0, 0.3));\n",
              "      fill: #FFFFFF;\n",
              "    }\n",
              "  </style>\n",
              "\n",
              "    <script>\n",
              "      const buttonEl =\n",
              "        document.querySelector('#df-867bf0ba-643b-4d0a-adf1-a0c5ffe7d9ad button.colab-df-convert');\n",
              "      buttonEl.style.display =\n",
              "        google.colab.kernel.accessAllowed ? 'block' : 'none';\n",
              "\n",
              "      async function convertToInteractive(key) {\n",
              "        const element = document.querySelector('#df-867bf0ba-643b-4d0a-adf1-a0c5ffe7d9ad');\n",
              "        const dataTable =\n",
              "          await google.colab.kernel.invokeFunction('convertToInteractive',\n",
              "                                                    [key], {});\n",
              "        if (!dataTable) return;\n",
              "\n",
              "        const docLinkHtml = 'Like what you see? Visit the ' +\n",
              "          '<a target=\"_blank\" href=https://colab.research.google.com/notebooks/data_table.ipynb>data table notebook</a>'\n",
              "          + ' to learn more about interactive tables.';\n",
              "        element.innerHTML = '';\n",
              "        dataTable['output_type'] = 'display_data';\n",
              "        await google.colab.output.renderOutput(dataTable, element);\n",
              "        const docLink = document.createElement('div');\n",
              "        docLink.innerHTML = docLinkHtml;\n",
              "        element.appendChild(docLink);\n",
              "      }\n",
              "    </script>\n",
              "  </div>\n",
              "\n",
              "\n",
              "<div id=\"df-8bc43983-1483-4153-b797-f3c38eac7e0d\">\n",
              "  <button class=\"colab-df-quickchart\" onclick=\"quickchart('df-8bc43983-1483-4153-b797-f3c38eac7e0d')\"\n",
              "            title=\"Suggest charts\"\n",
              "            style=\"display:none;\">\n",
              "\n",
              "<svg xmlns=\"http://www.w3.org/2000/svg\" height=\"24px\"viewBox=\"0 0 24 24\"\n",
              "     width=\"24px\">\n",
              "    <g>\n",
              "        <path d=\"M19 3H5c-1.1 0-2 .9-2 2v14c0 1.1.9 2 2 2h14c1.1 0 2-.9 2-2V5c0-1.1-.9-2-2-2zM9 17H7v-7h2v7zm4 0h-2V7h2v10zm4 0h-2v-4h2v4z\"/>\n",
              "    </g>\n",
              "</svg>\n",
              "  </button>\n",
              "\n",
              "<style>\n",
              "  .colab-df-quickchart {\n",
              "      --bg-color: #E8F0FE;\n",
              "      --fill-color: #1967D2;\n",
              "      --hover-bg-color: #E2EBFA;\n",
              "      --hover-fill-color: #174EA6;\n",
              "      --disabled-fill-color: #AAA;\n",
              "      --disabled-bg-color: #DDD;\n",
              "  }\n",
              "\n",
              "  [theme=dark] .colab-df-quickchart {\n",
              "      --bg-color: #3B4455;\n",
              "      --fill-color: #D2E3FC;\n",
              "      --hover-bg-color: #434B5C;\n",
              "      --hover-fill-color: #FFFFFF;\n",
              "      --disabled-bg-color: #3B4455;\n",
              "      --disabled-fill-color: #666;\n",
              "  }\n",
              "\n",
              "  .colab-df-quickchart {\n",
              "    background-color: var(--bg-color);\n",
              "    border: none;\n",
              "    border-radius: 50%;\n",
              "    cursor: pointer;\n",
              "    display: none;\n",
              "    fill: var(--fill-color);\n",
              "    height: 32px;\n",
              "    padding: 0;\n",
              "    width: 32px;\n",
              "  }\n",
              "\n",
              "  .colab-df-quickchart:hover {\n",
              "    background-color: var(--hover-bg-color);\n",
              "    box-shadow: 0 1px 2px rgba(60, 64, 67, 0.3), 0 1px 3px 1px rgba(60, 64, 67, 0.15);\n",
              "    fill: var(--button-hover-fill-color);\n",
              "  }\n",
              "\n",
              "  .colab-df-quickchart-complete:disabled,\n",
              "  .colab-df-quickchart-complete:disabled:hover {\n",
              "    background-color: var(--disabled-bg-color);\n",
              "    fill: var(--disabled-fill-color);\n",
              "    box-shadow: none;\n",
              "  }\n",
              "\n",
              "  .colab-df-spinner {\n",
              "    border: 2px solid var(--fill-color);\n",
              "    border-color: transparent;\n",
              "    border-bottom-color: var(--fill-color);\n",
              "    animation:\n",
              "      spin 1s steps(1) infinite;\n",
              "  }\n",
              "\n",
              "  @keyframes spin {\n",
              "    0% {\n",
              "      border-color: transparent;\n",
              "      border-bottom-color: var(--fill-color);\n",
              "      border-left-color: var(--fill-color);\n",
              "    }\n",
              "    20% {\n",
              "      border-color: transparent;\n",
              "      border-left-color: var(--fill-color);\n",
              "      border-top-color: var(--fill-color);\n",
              "    }\n",
              "    30% {\n",
              "      border-color: transparent;\n",
              "      border-left-color: var(--fill-color);\n",
              "      border-top-color: var(--fill-color);\n",
              "      border-right-color: var(--fill-color);\n",
              "    }\n",
              "    40% {\n",
              "      border-color: transparent;\n",
              "      border-right-color: var(--fill-color);\n",
              "      border-top-color: var(--fill-color);\n",
              "    }\n",
              "    60% {\n",
              "      border-color: transparent;\n",
              "      border-right-color: var(--fill-color);\n",
              "    }\n",
              "    80% {\n",
              "      border-color: transparent;\n",
              "      border-right-color: var(--fill-color);\n",
              "      border-bottom-color: var(--fill-color);\n",
              "    }\n",
              "    90% {\n",
              "      border-color: transparent;\n",
              "      border-bottom-color: var(--fill-color);\n",
              "    }\n",
              "  }\n",
              "</style>\n",
              "\n",
              "  <script>\n",
              "    async function quickchart(key) {\n",
              "      const quickchartButtonEl =\n",
              "        document.querySelector('#' + key + ' button');\n",
              "      quickchartButtonEl.disabled = true;  // To prevent multiple clicks.\n",
              "      quickchartButtonEl.classList.add('colab-df-spinner');\n",
              "      try {\n",
              "        const charts = await google.colab.kernel.invokeFunction(\n",
              "            'suggestCharts', [key], {});\n",
              "      } catch (error) {\n",
              "        console.error('Error during call to suggestCharts:', error);\n",
              "      }\n",
              "      quickchartButtonEl.classList.remove('colab-df-spinner');\n",
              "      quickchartButtonEl.classList.add('colab-df-quickchart-complete');\n",
              "    }\n",
              "    (() => {\n",
              "      let quickchartButtonEl =\n",
              "        document.querySelector('#df-8bc43983-1483-4153-b797-f3c38eac7e0d button');\n",
              "      quickchartButtonEl.style.display =\n",
              "        google.colab.kernel.accessAllowed ? 'block' : 'none';\n",
              "    })();\n",
              "  </script>\n",
              "</div>\n",
              "    </div>\n",
              "  </div>\n"
            ],
            "text/plain": [
              "                year      condition       odometer            mmr  \\\n",
              "count  558837.000000  547017.000000  558743.000000  558799.000000   \n",
              "mean     2010.038927      30.672365   68320.017767   13769.377495   \n",
              "std         3.966864      13.402832   53398.542821    9679.967174   \n",
              "min      1982.000000       1.000000       1.000000      25.000000   \n",
              "25%      2007.000000      23.000000   28371.000000    7100.000000   \n",
              "50%      2012.000000      35.000000   52254.000000   12250.000000   \n",
              "75%      2013.000000      42.000000   99109.000000   18300.000000   \n",
              "max      2015.000000      49.000000  999999.000000  182000.000000   \n",
              "\n",
              "        sellingprice  \n",
              "count  558825.000000  \n",
              "mean    13611.358810  \n",
              "std      9749.501628  \n",
              "min         1.000000  \n",
              "25%      6900.000000  \n",
              "50%     12100.000000  \n",
              "75%     18200.000000  \n",
              "max    230000.000000  "
            ]
          },
          "execution_count": 37,
          "metadata": {},
          "output_type": "execute_result"
        }
      ],
      "source": [
        "#Determine summary statistics for each of the numerical variables\n",
        "cp_df.describe()"
      ]
    },
    {
      "cell_type": "markdown",
      "metadata": {
        "id": "ladYUD5ouFYw"
      },
      "source": [
        "We observe null values for each column by calling `isna().sum()` -- `make`, `model`, `trim`, `body`, `transmission`, and `condition` seem to have a good amount of nulls."
      ]
    },
    {
      "cell_type": "code",
      "execution_count": null,
      "metadata": {
        "colab": {
          "base_uri": "https://localhost:8080/"
        },
        "id": "NNuMkg3Aspc5",
        "outputId": "89253941-cbe9-48f9-f32b-ede662dc1be5"
      },
      "outputs": [
        {
          "data": {
            "text/plain": [
              "year                0\n",
              "make            10301\n",
              "model           10399\n",
              "trim            10651\n",
              "body            13195\n",
              "transmission    65352\n",
              "vin                 4\n",
              "state               0\n",
              "condition       11820\n",
              "odometer           94\n",
              "color             749\n",
              "interior          749\n",
              "seller              0\n",
              "mmr                38\n",
              "sellingprice       12\n",
              "saledate           12\n",
              "dtype: int64"
            ]
          },
          "execution_count": 38,
          "metadata": {},
          "output_type": "execute_result"
        }
      ],
      "source": [
        "#Check number of missing values for each column\n",
        "cp_df.isna().sum()"
      ]
    },
    {
      "cell_type": "markdown",
      "metadata": {
        "id": "Ja_pTysEuHwE"
      },
      "source": [
        "We observe the cardinality of each column by calling `nunique()` to get an idea of how many variations we have especially for the categorical variables."
      ]
    },
    {
      "cell_type": "code",
      "execution_count": null,
      "metadata": {
        "colab": {
          "base_uri": "https://localhost:8080/"
        },
        "id": "3Cqd-7tBs6uq",
        "outputId": "6fbced53-1db4-40b3-d530-087fe19e99ca"
      },
      "outputs": [
        {
          "data": {
            "text/plain": [
              "year                34\n",
              "make                96\n",
              "model              973\n",
              "trim              1963\n",
              "body                87\n",
              "transmission         4\n",
              "vin             550297\n",
              "state               64\n",
              "condition           41\n",
              "odometer        172278\n",
              "color               46\n",
              "interior            17\n",
              "seller           14263\n",
              "mmr               1101\n",
              "sellingprice      1887\n",
              "saledate          3766\n",
              "dtype: int64"
            ]
          },
          "execution_count": 39,
          "metadata": {},
          "output_type": "execute_result"
        }
      ],
      "source": [
        "#Check number of unique values for each column\n",
        "cp_df.nunique()"
      ]
    },
    {
      "cell_type": "markdown",
      "metadata": {
        "id": "413ObX16hKLD"
      },
      "source": [
        "We noticed that the Vehicle Identification Number (`vin`) has the most variations. This was corroborated by a quick Google search. Thus, it is not useful for our analysis and we drop the column.\n",
        "\n",
        "We also drop the `seller` column because the high cardinality may lead to overfitting. We reason that although the pricing strategies of different sellers may vary, these patterns are probably insignificant in comparison to other variables.\n",
        "\n",
        "We decided to implement this dropping process with PandaSQL.\n",
        "\n"
      ]
    },
    {
      "cell_type": "code",
      "execution_count": null,
      "metadata": {
        "id": "BQNs5wMmSy1R"
      },
      "outputs": [],
      "source": [
        "# Run SQL query to drop columns 'vin', 'mmr', and 'seller'\n",
        "cp_df = ps.sqldf('''\n",
        "SELECT\n",
        "    year,\n",
        "    make,\n",
        "    model,\n",
        "    trim,\n",
        "    body,\n",
        "    transmission,\n",
        "    state,\n",
        "    condition,\n",
        "    odometer,\n",
        "    color,\n",
        "    interior,\n",
        "    sellingprice,\n",
        "    saledate\n",
        "FROM cp_df\n",
        "''')"
      ]
    },
    {
      "cell_type": "markdown",
      "metadata": {
        "id": "K02791e0hzPw"
      },
      "source": [
        "We then try dropping nulls to see how much data we lose."
      ]
    },
    {
      "cell_type": "code",
      "execution_count": null,
      "metadata": {
        "id": "o9jecVw5x_Gr"
      },
      "outputs": [],
      "source": [
        "#Dropping null values\n",
        "cp_df.dropna(inplace=True)"
      ]
    },
    {
      "cell_type": "code",
      "execution_count": null,
      "metadata": {
        "id": "XHr-u5DQyGTi"
      },
      "outputs": [],
      "source": [
        "#Check out the column types and shape of the dataframe after dropping nulls\n",
        "cp_df.info()"
      ]
    },
    {
      "cell_type": "markdown",
      "metadata": {
        "id": "9ZunVgPRk5fG"
      },
      "source": [
        "We notice that dropping rows with null values results in minimal data loss. Most nulls are in categorical columns, where the best strategy would be to impute values with the mode of that column. We reason that this might degrade model performance by distorting the natural distribution of data. Thus, we proceed with the analysis on the modified dataframe with no nulls."
      ]
    },
    {
      "cell_type": "markdown",
      "metadata": {
        "id": "H4iGCZx7qhLN"
      },
      "source": [
        "Now, we try to familiarize ourselves with the categorical features.\n",
        "\n",
        "By making all values in the `body` column lowercase, we avoid the same values being recognized as different just because of casing."
      ]
    },
    {
      "cell_type": "code",
      "execution_count": null,
      "metadata": {
        "id": "RpijKt7Y0Srm"
      },
      "outputs": [],
      "source": [
        "#Generate a list of body categories\n",
        "cp_df['body'] = cp_df['body'].str.lower()\n",
        "cp_df['body'].unique()"
      ]
    },
    {
      "cell_type": "markdown",
      "metadata": {
        "id": "0xJmVNH8uU48"
      },
      "source": [
        "We notice that the body categories vary in specificity. For example, the granturismo convertible category is a subcategory of convertible. To address this, we group the specific categories with their corresponding general categories."
      ]
    },
    {
      "cell_type": "code",
      "execution_count": null,
      "metadata": {
        "id": "3QpetCR706Be"
      },
      "outputs": [],
      "source": [
        "#List of the general categories\n",
        "body_types = ['suv', 'sedan', 'convertible', 'coupe', 'wagon', 'hatchback', 'cab', 'van', 'minivan']\n",
        "cp_df['body_type'] = 'other'\n",
        "#Replace with general category if general category is a substring of the body value, r\n",
        "for bt in body_types:\n",
        "  cp_df['body_type'] = np.where(cp_df['body'].str.contains(bt, case=False), bt, cp_df['body_type'])"
      ]
    },
    {
      "cell_type": "markdown",
      "metadata": {
        "id": "9MXqXuBauYIQ"
      },
      "source": [
        "The range of unique values has decreased significantly with this manipulation."
      ]
    },
    {
      "cell_type": "code",
      "execution_count": null,
      "metadata": {
        "id": "wQzeLxqF24Up"
      },
      "outputs": [],
      "source": [
        "cp_df['body_type'].value_counts()"
      ]
    },
    {
      "cell_type": "markdown",
      "metadata": {
        "id": "Jrcys4tHuZ6k"
      },
      "source": [
        "Having \"other\" as a body type does not provide us much insight. Thus, we seek to look into these values and extract useful information.\n",
        "\n",
        "We found that the only two variations of `body_type` under \"other\" were \"supercrew\" and \"koup\". Via a quick Google search, we found that \"supercrew\" falls under the \"cab\" category and \"koup\" falls under \"coupe\"."
      ]
    },
    {
      "cell_type": "code",
      "execution_count": null,
      "metadata": {
        "id": "6onso7_U3Se7"
      },
      "outputs": [],
      "source": [
        "cp_df[cp_df['body_type'] == 'other']['body'].unique()"
      ]
    },
    {
      "cell_type": "code",
      "execution_count": null,
      "metadata": {
        "id": "Y7Rfp7nZ3gJp"
      },
      "outputs": [],
      "source": [
        "#Handle the cases where specific category does not contain substring of general category\n",
        "cp_df.loc[cp_df['body'] == 'supercrew', 'body_type'] = 'cab'\n",
        "cp_df.loc[cp_df['body'] == 'koup', 'body_type'] = 'coupe'"
      ]
    },
    {
      "cell_type": "code",
      "execution_count": null,
      "metadata": {
        "id": "6UHQPLD934Az"
      },
      "outputs": [],
      "source": [
        "cp_df['body_type'].value_counts()"
      ]
    },
    {
      "cell_type": "code",
      "execution_count": null,
      "metadata": {
        "id": "YpT0I3mQ-j--"
      },
      "outputs": [],
      "source": [
        "cp_df.info()"
      ]
    },
    {
      "cell_type": "markdown",
      "metadata": {
        "id": "XCx6vAHcudHg"
      },
      "source": [
        "The cardinality of the `model` column is large. We will have to deal with this in future steps."
      ]
    },
    {
      "cell_type": "code",
      "execution_count": null,
      "metadata": {
        "id": "65nHCNLz_a_J"
      },
      "outputs": [],
      "source": [
        "cp_df['model'].unique()"
      ]
    },
    {
      "cell_type": "markdown",
      "metadata": {
        "id": "Uc_Pp0iHufki"
      },
      "source": [
        "We seek to gain insight on the average selling price by body type. We chose plotly as our visualization tool because the hover function allows us to get the exact value for each bar as well as its standard deviation.\n",
        "\n",
        "The variations for every body type is decently significant but the average selling price for all body types are close to each other within the \\$10k - \\$20k range.\n",
        "\n",
        "A video recording of the interactive scatter plot in action can be found [here](https://drive.google.com/file/d/1iLqJ08C0oJR2qp-F8ugw-93g3s-Cwx2E/view?usp=sharing)"
      ]
    },
    {
      "cell_type": "code",
      "execution_count": null,
      "metadata": {
        "id": "QFJbCaj-PpHo"
      },
      "outputs": [],
      "source": [
        "import plotly.graph_objects as go\n",
        "\n",
        "# Group the data by 'body_type' and calculate mean and standard deviation\n",
        "grouped_data = cp_df.groupby('body_type')['sellingprice']\n",
        "average_prices = grouped_data.mean().sort_values(ascending=False)\n",
        "std_deviation = grouped_data.std()\n",
        "std_deviation = std_deviation.loc[average_prices.index]\n",
        "\n",
        "# Create the bar plot\n",
        "fig = go.Figure()\n",
        "\n",
        "fig.add_trace(go.Bar(\n",
        "    x=average_prices.index,\n",
        "    y=average_prices,\n",
        "    error_y=dict(type='data', array=std_deviation, visible=True),\n",
        "    marker_color='skyblue'\n",
        "))\n",
        "\n",
        "# Update layout\n",
        "fig.update_layout(\n",
        "    title='Average Selling Price by Car Body Type',\n",
        "    xaxis_title='Car Body Type',\n",
        "    yaxis_title='Average Selling Price ($)',\n",
        "    xaxis=dict(tickangle=-90),\n",
        "    bargap=0.4\n",
        ")\n",
        "\n",
        "# Show the plot\n",
        "fig.show()"
      ]
    },
    {
      "cell_type": "markdown",
      "metadata": {
        "id": "A6aSNYFFCeGS"
      },
      "source": [
        "A video recording of the interactive scatter plot in action can be found [here](https://drive.google.com/file/d/1jIO-BWFQ-O_Qss8dM-m7kzMSCgGagC_-/view?usp=sharing)"
      ]
    },
    {
      "cell_type": "code",
      "execution_count": null,
      "metadata": {
        "id": "LiRQHs3cAtlx"
      },
      "outputs": [],
      "source": [
        "# Create scatter plot\n",
        "fig = go.Figure()\n",
        "\n",
        "fig.add_trace(go.Scatter(\n",
        "    x=cp_df['odometer'],\n",
        "    y=cp_df['sellingprice'],\n",
        "    mode='markers',\n",
        "    marker=dict(color='blue'),\n",
        "))\n",
        "\n",
        "# Update layout\n",
        "fig.update_layout(\n",
        "    title='Selling Price vs. Odometer',\n",
        "    xaxis_title='Odometer (mi.)',\n",
        "    yaxis_title='Selling Price ($)',\n",
        "    showlegend=False,\n",
        "    height=600,\n",
        "    width=1000,\n",
        ")\n",
        "\n",
        "# Show the plot\n",
        "fig.show()"
      ]
    },
    {
      "cell_type": "markdown",
      "metadata": {
        "id": "txQ36hWouh0z"
      },
      "source": [
        "As one can expect, `odometer`, which indicates the mileage usage of the car so far, would have a close relationship with the its selling price.\n",
        "\n",
        "A general trend where a lower `odometer` value corresponds with a high selling price and vice versa can be observed. However, it is also interesting to see that there were many cases where cars with low `odometer` values were also sold at low prices. We assume this may relate to the particular type of car that was sold."
      ]
    },
    {
      "cell_type": "markdown",
      "metadata": {
        "id": "Tx53OJXGx7Pt"
      },
      "source": [
        "##2.3 More Data Visualizations"
      ]
    },
    {
      "cell_type": "markdown",
      "metadata": {
        "id": "ffkwxaRmyJeM"
      },
      "source": [
        "To better understand the distributions of the numerical variables beyond the summary statistics and prepare to remove outliers, we create box plots for each of the numerical variables."
      ]
    },
    {
      "cell_type": "markdown",
      "metadata": {
        "id": "qgozqI8auls_"
      },
      "source": [
        "As seen similarly from the Selling Price vs. Odometer plot, we can observe concentration of odometer readings within the 0M - 0.4M range."
      ]
    },
    {
      "cell_type": "code",
      "execution_count": null,
      "metadata": {
        "id": "4SEgdKhDzr3J"
      },
      "outputs": [],
      "source": [
        "#Create box plot for odometer\n",
        "plt.figure(figsize=(10, 6))\n",
        "plt.boxplot(cp_df['odometer'])\n",
        "plt.title('Distribution of Odometer Readings Before Dropping Outliers')\n",
        "plt.ylabel('Odometer Readings')\n",
        "plt.grid(True)\n",
        "plt.show()"
      ]
    },
    {
      "cell_type": "markdown",
      "metadata": {
        "id": "_GA4NQgB0dT9"
      },
      "source": [
        "We see that there are multiple vehicles with odometer readings exceeding 600000 miles. These readings are probably misentered because this is impractical."
      ]
    },
    {
      "cell_type": "markdown",
      "metadata": {
        "id": "ugF25_F3uqOj"
      },
      "source": [
        "Condition ratings are also mainly concentrated within the 25 - 40 range."
      ]
    },
    {
      "cell_type": "code",
      "execution_count": null,
      "metadata": {
        "id": "qWnCQTWu1S1u"
      },
      "outputs": [],
      "source": [
        "#Create box plot for condition\n",
        "plt.figure(figsize=(10, 6))  # Sets the figure size\n",
        "plt.boxplot(cp_df['condition'])  # Drops NA values to avoid errors in plotting\n",
        "plt.title('Distribution of Condition Ratings')  # Adds a title to the plot\n",
        "plt.ylabel('Condition Ratings')  # Adds a label to the y-axis\n",
        "plt.grid(True)  # Adds a grid for easier readability\n",
        "plt.show()"
      ]
    },
    {
      "cell_type": "markdown",
      "metadata": {
        "id": "oH5tjqr-ur_1"
      },
      "source": [
        "We then create a scatter matrix to observe relationships between numerical columns. Interesting results can be found here as several plots rather resemble a bar graph as opposed to a typical scatter plot."
      ]
    },
    {
      "cell_type": "code",
      "execution_count": null,
      "metadata": {
        "colab": {
          "base_uri": "https://localhost:8080/",
          "height": 1000
        },
        "id": "CJ14_kq4yFZo",
        "outputId": "a56c8a1e-42d9-467e-bbc4-301b4dc2fe8f"
      },
      "outputs": [
        {
          "data": {
            "image/png": "[encoded data removed]",
            "text/plain": [
              "<Figure size 1200x1200 with 16 Axes>"
            ]
          },
          "metadata": {},
          "output_type": "display_data"
        }
      ],
      "source": [
        "#Create scatter matrix to visualize relationships between numerical columns\n",
        "numerical_columns = cp_df.select_dtypes(include=['float64', 'int64']).columns\n",
        "scatter_matrix(cp_df[numerical_columns], alpha=0.5, figsize=(12, 12), diagonal='hist')\n",
        "plt.suptitle('Scatter Matrix for Numerical Columns', y=1.02)\n",
        "plt.show()"
      ]
    },
    {
      "cell_type": "markdown",
      "metadata": {
        "id": "aI6da6Uwwy8u"
      },
      "source": [
        "#Part 3: Feature Engineering"
      ]
    },
    {
      "cell_type": "markdown",
      "metadata": {
        "id": "RUPED_MFqRk5"
      },
      "source": [
        "We reason that the sale date of a car is only meaningful in comparison to the year of the model. We create a new feature representing the age of the car at the time of the sale by extracting the sale year from the sale date with regex and subtracting the model year. We then drop the sale date column."
      ]
    },
    {
      "cell_type": "code",
      "execution_count": null,
      "metadata": {
        "id": "bM2VwmjO90kP"
      },
      "outputs": [],
      "source": [
        "#Extracting the sale year from sale date with regex\n",
        "regex_pattern = '(\\d{4})'\n",
        "#cp_df['age'] = 2024 - cp_df['year']\n",
        "cp_df['saleyear'] = cp_df['saledate'].str.extract(regex_pattern)\n",
        "cp_df['saleyear'] = cp_df['saleyear'].astype(int) #cast to int\n",
        "cp_df['age'] = cp_df['saleyear'] - cp_df['year']+1 #create column for age of car at sale. Add one to prevent age from being a negative value\n",
        "cp_df.drop(columns=['saledate', 'saleyear'], inplace=True)"
      ]
    },
    {
      "cell_type": "markdown",
      "metadata": {
        "id": "DYZBuJDeFyIr"
      },
      "source": [
        "Although it may initially seem incorrect that some cars have negative age, it turns out that each year's iteration of a given car is released midway through the following year."
      ]
    },
    {
      "cell_type": "markdown",
      "metadata": {
        "id": "i9smmDNOq2Gj"
      },
      "source": [
        "Our box plots of numerical variables from earlier demonstrated the need to drop outliers."
      ]
    },
    {
      "cell_type": "code",
      "execution_count": null,
      "metadata": {
        "id": "4s_U7lwNKKUl"
      },
      "outputs": [],
      "source": [
        "#Dropping outliers based on z-score\n",
        "numerical_cols = ['condition', 'odometer', 'age', 'sellingprice']\n",
        "z_scores = stats.zscore(cp_df[numerical_cols])\n",
        "cp_df = cp_df[(z_scores < 2).all(axis=1)]"
      ]
    },
    {
      "cell_type": "code",
      "execution_count": null,
      "metadata": {
        "colab": {
          "base_uri": "https://localhost:8080/",
          "height": 545
        },
        "id": "ajey9op-4DdZ",
        "outputId": "3eeb9fa9-4088-4f42-e416-25e7c3217619"
      },
      "outputs": [
        {
          "data": {
            "image/png": "[encoded data removed]",
            "text/plain": [
              "<Figure size 1000x600 with 1 Axes>"
            ]
          },
          "metadata": {},
          "output_type": "display_data"
        }
      ],
      "source": [
        "#Creating another box plot for odometer\n",
        "plt.figure(figsize=(10, 6))\n",
        "plt.boxplot(cp_df['odometer'])\n",
        "plt.title('Distribution of Odometer Readings After Dropping Outliers')\n",
        "plt.ylabel('Odometer Readings')\n",
        "plt.grid(True)\n",
        "plt.show()"
      ]
    },
    {
      "cell_type": "markdown",
      "metadata": {
        "id": "Vkur5kuyu8yE"
      },
      "source": [
        "We seek to create a correlation heatmap which will give us insight on which numerical variables may be highly correlated to each other.\n",
        "\n",
        "The variable pairs (`odometer`, `age`), (`odometer`, `sellingprice`), and (`age`, `sellingprice`) seem to have a fairly high correlation. Logically, this makes sense as a longer a car is used, it should have higher mileage, which would lead to a lower selling price."
      ]
    },
    {
      "cell_type": "code",
      "execution_count": null,
      "metadata": {
        "colab": {
          "base_uri": "https://localhost:8080/",
          "height": 558
        },
        "id": "xQSGEe9TsScH",
        "outputId": "adfa3a7e-7e10-493d-f3c1-f7290b090c5c"
      },
      "outputs": [
        {
          "data": {
            "image/png": "[encoded data removed]",
            "text/plain": [
              "<Figure size 1000x500 with 1 Axes>"
            ]
          },
          "metadata": {},
          "output_type": "display_data"
        }
      ],
      "source": [
        "#Create correlation heatmap\n",
        "plt.figure(figsize=(10, 5))\n",
        "numeric_cols = ['condition','odometer','age','sellingprice']\n",
        "\n",
        "sns.heatmap(cp_df[numeric_cols].corr(),\n",
        "            cmap='coolwarm',\n",
        "            annot=True,\n",
        "            fmt='.2f',\n",
        "            linewidths=0.5,\n",
        "            cbar = False,\n",
        "            )\n",
        "\n",
        "plt.tight_layout()\n",
        "plt.title('Correlation with Selling Price', fontsize=18)\n",
        "plt.xlabel('Features', fontsize=14)\n",
        "plt.ylabel('Selling Price', fontsize=14)\n",
        "plt.show()"
      ]
    },
    {
      "cell_type": "markdown",
      "metadata": {
        "id": "PEjcXmA8vwgF"
      },
      "source": [
        "Because the previous heatmap only computes the correlation between numerical features, we implement the [Spearman rank-order correlation metric](https://docs.scipy.org/doc/scipy/reference/generated/scipy.stats.spearmanr.html) to determine the correlation between the categorical variables and `sellingprice`.\n",
        "\n",
        "The categorical variables are not highly correlated with `sellingprice`."
      ]
    },
    {
      "cell_type": "code",
      "execution_count": null,
      "metadata": {
        "colab": {
          "base_uri": "https://localhost:8080/"
        },
        "id": "XYkdhT8u90rs",
        "outputId": "941c5efb-fec9-4a45-c322-de9585067464"
      },
      "outputs": [
        {
          "name": "stdout",
          "output_type": "stream",
          "text": [
            "Correlation between Make & SellingPrice: -0.0031241920577297333\n",
            "Correlation between Body Type & SellingPrice: 0.031204011379366316\n",
            "Correlation between Transmission & SellingPrice: -0.0570417775405339\n",
            "Correlation between State & SellingPrice: -0.02113158476680911\n",
            "Correlation between Color & SellingPrice: 0.03916887067873846\n",
            "Correlation between Interior & SellingPrice: -0.13100183918277497\n"
          ]
        }
      ],
      "source": [
        "# Correlation between make and sellingprice\n",
        "corr, pval = spearmanr(cp_df['sellingprice'], cp_df['make'])\n",
        "print('Correlation between Make & SellingPrice: ' + str(corr))\n",
        "\n",
        "# Correlation between body and sellingprice\n",
        "corr, pval = spearmanr(cp_df['sellingprice'], cp_df['body_type'])\n",
        "print('Correlation between Body Type & SellingPrice: ' + str(corr))\n",
        "\n",
        "# Correlation between transmission and sellingprice\n",
        "corr, pval = spearmanr(cp_df['sellingprice'], cp_df['transmission'])\n",
        "print('Correlation between Transmission & SellingPrice: ' + str(corr))\n",
        "\n",
        "# Correlation between state and sellingprice\n",
        "corr, pval = spearmanr(cp_df['sellingprice'], cp_df['state'])\n",
        "print('Correlation between State & SellingPrice: ' + str(corr))\n",
        "\n",
        "# Correlation between color and sellingprice\n",
        "corr, pval = spearmanr(cp_df['sellingprice'], cp_df['color'])\n",
        "print('Correlation between Color & SellingPrice: ' + str(corr))\n",
        "\n",
        "# Correlation between interior and sellingprice\n",
        "corr, pval = spearmanr(cp_df['sellingprice'], cp_df['interior'])\n",
        "print('Correlation between Interior & SellingPrice: ' + str(corr))"
      ]
    },
    {
      "cell_type": "markdown",
      "metadata": {
        "id": "KFC_pHysNnHH"
      },
      "source": [
        "We drop `trim`, `model`, `age`, and `body` to avoid multicollinearity issues. As the correlation matrix shows, `age` is highly correlated with `odometer`. Out of the two, we choose to keep odometer because it is a continuous variable."
      ]
    },
    {
      "cell_type": "code",
      "execution_count": null,
      "metadata": {
        "colab": {
          "base_uri": "https://localhost:8080/",
          "height": 331
        },
        "id": "cDYQRQa1Nc6_",
        "outputId": "65bac5ff-6ef7-4f1b-ec4a-993d6bd79fcf"
      },
      "outputs": [
        {
          "name": "stderr",
          "output_type": "stream",
          "text": [
            "<ipython-input-61-0134290e01c9>:2: SettingWithCopyWarning:\n",
            "\n",
            "\n",
            "A value is trying to be set on a copy of a slice from a DataFrame\n",
            "\n",
            "See the caveats in the documentation: https://pandas.pydata.org/pandas-docs/stable/user_guide/indexing.html#returning-a-view-versus-a-copy\n",
            "\n"
          ]
        },
        {
          "data": {
            "application/vnd.google.colaboratory.intrinsic+json": {
              "type": "dataframe",
              "variable_name": "cp_df"
            },
            "text/html": [
              "\n",
              "  <div id=\"df-a330c0f1-7120-4129-a56e-4cd7e025253c\" class=\"colab-df-container\">\n",
              "    <div>\n",
              "<style scoped>\n",
              "    .dataframe tbody tr th:only-of-type {\n",
              "        vertical-align: middle;\n",
              "    }\n",
              "\n",
              "    .dataframe tbody tr th {\n",
              "        vertical-align: top;\n",
              "    }\n",
              "\n",
              "    .dataframe thead th {\n",
              "        text-align: right;\n",
              "    }\n",
              "</style>\n",
              "<table border=\"1\" class=\"dataframe\">\n",
              "  <thead>\n",
              "    <tr style=\"text-align: right;\">\n",
              "      <th></th>\n",
              "      <th>year</th>\n",
              "      <th>make</th>\n",
              "      <th>transmission</th>\n",
              "      <th>state</th>\n",
              "      <th>condition</th>\n",
              "      <th>odometer</th>\n",
              "      <th>color</th>\n",
              "      <th>interior</th>\n",
              "      <th>sellingprice</th>\n",
              "      <th>body_type</th>\n",
              "    </tr>\n",
              "  </thead>\n",
              "  <tbody>\n",
              "    <tr>\n",
              "      <th>0</th>\n",
              "      <td>2015</td>\n",
              "      <td>Kia</td>\n",
              "      <td>automatic</td>\n",
              "      <td>ca</td>\n",
              "      <td>5.0</td>\n",
              "      <td>16639.0</td>\n",
              "      <td>white</td>\n",
              "      <td>black</td>\n",
              "      <td>21500.0</td>\n",
              "      <td>suv</td>\n",
              "    </tr>\n",
              "    <tr>\n",
              "      <th>1</th>\n",
              "      <td>2015</td>\n",
              "      <td>Kia</td>\n",
              "      <td>automatic</td>\n",
              "      <td>ca</td>\n",
              "      <td>5.0</td>\n",
              "      <td>9393.0</td>\n",
              "      <td>white</td>\n",
              "      <td>beige</td>\n",
              "      <td>21500.0</td>\n",
              "      <td>suv</td>\n",
              "    </tr>\n",
              "    <tr>\n",
              "      <th>2</th>\n",
              "      <td>2014</td>\n",
              "      <td>BMW</td>\n",
              "      <td>automatic</td>\n",
              "      <td>ca</td>\n",
              "      <td>45.0</td>\n",
              "      <td>1331.0</td>\n",
              "      <td>gray</td>\n",
              "      <td>black</td>\n",
              "      <td>30000.0</td>\n",
              "      <td>sedan</td>\n",
              "    </tr>\n",
              "    <tr>\n",
              "      <th>3</th>\n",
              "      <td>2015</td>\n",
              "      <td>Volvo</td>\n",
              "      <td>automatic</td>\n",
              "      <td>ca</td>\n",
              "      <td>41.0</td>\n",
              "      <td>14282.0</td>\n",
              "      <td>white</td>\n",
              "      <td>black</td>\n",
              "      <td>27750.0</td>\n",
              "      <td>sedan</td>\n",
              "    </tr>\n",
              "    <tr>\n",
              "      <th>5</th>\n",
              "      <td>2015</td>\n",
              "      <td>Nissan</td>\n",
              "      <td>automatic</td>\n",
              "      <td>ca</td>\n",
              "      <td>1.0</td>\n",
              "      <td>5554.0</td>\n",
              "      <td>gray</td>\n",
              "      <td>black</td>\n",
              "      <td>10900.0</td>\n",
              "      <td>sedan</td>\n",
              "    </tr>\n",
              "  </tbody>\n",
              "</table>\n",
              "</div>\n",
              "    <div class=\"colab-df-buttons\">\n",
              "\n",
              "  <div class=\"colab-df-container\">\n",
              "    <button class=\"colab-df-convert\" onclick=\"convertToInteractive('df-a330c0f1-7120-4129-a56e-4cd7e025253c')\"\n",
              "            title=\"Convert this dataframe to an interactive table.\"\n",
              "            style=\"display:none;\">\n",
              "\n",
              "  <svg xmlns=\"http://www.w3.org/2000/svg\" height=\"24px\" viewBox=\"0 -960 960 960\">\n",
              "    <path d=\"M120-120v-720h720v720H120Zm60-500h600v-160H180v160Zm220 220h160v-160H400v160Zm0 220h160v-160H400v160ZM180-400h160v-160H180v160Zm440 0h160v-160H620v160ZM180-180h160v-160H180v160Zm440 0h160v-160H620v160Z\"/>\n",
              "  </svg>\n",
              "    </button>\n",
              "\n",
              "  <style>\n",
              "    .colab-df-container {\n",
              "      display:flex;\n",
              "      gap: 12px;\n",
              "    }\n",
              "\n",
              "    .colab-df-convert {\n",
              "      background-color: #E8F0FE;\n",
              "      border: none;\n",
              "      border-radius: 50%;\n",
              "      cursor: pointer;\n",
              "      display: none;\n",
              "      fill: #1967D2;\n",
              "      height: 32px;\n",
              "      padding: 0 0 0 0;\n",
              "      width: 32px;\n",
              "    }\n",
              "\n",
              "    .colab-df-convert:hover {\n",
              "      background-color: #E2EBFA;\n",
              "      box-shadow: 0px 1px 2px rgba(60, 64, 67, 0.3), 0px 1px 3px 1px rgba(60, 64, 67, 0.15);\n",
              "      fill: #174EA6;\n",
              "    }\n",
              "\n",
              "    .colab-df-buttons div {\n",
              "      margin-bottom: 4px;\n",
              "    }\n",
              "\n",
              "    [theme=dark] .colab-df-convert {\n",
              "      background-color: #3B4455;\n",
              "      fill: #D2E3FC;\n",
              "    }\n",
              "\n",
              "    [theme=dark] .colab-df-convert:hover {\n",
              "      background-color: #434B5C;\n",
              "      box-shadow: 0px 1px 3px 1px rgba(0, 0, 0, 0.15);\n",
              "      filter: drop-shadow(0px 1px 2px rgba(0, 0, 0, 0.3));\n",
              "      fill: #FFFFFF;\n",
              "    }\n",
              "  </style>\n",
              "\n",
              "    <script>\n",
              "      const buttonEl =\n",
              "        document.querySelector('#df-a330c0f1-7120-4129-a56e-4cd7e025253c button.colab-df-convert');\n",
              "      buttonEl.style.display =\n",
              "        google.colab.kernel.accessAllowed ? 'block' : 'none';\n",
              "\n",
              "      async function convertToInteractive(key) {\n",
              "        const element = document.querySelector('#df-a330c0f1-7120-4129-a56e-4cd7e025253c');\n",
              "        const dataTable =\n",
              "          await google.colab.kernel.invokeFunction('convertToInteractive',\n",
              "                                                    [key], {});\n",
              "        if (!dataTable) return;\n",
              "\n",
              "        const docLinkHtml = 'Like what you see? Visit the ' +\n",
              "          '<a target=\"_blank\" href=https://colab.research.google.com/notebooks/data_table.ipynb>data table notebook</a>'\n",
              "          + ' to learn more about interactive tables.';\n",
              "        element.innerHTML = '';\n",
              "        dataTable['output_type'] = 'display_data';\n",
              "        await google.colab.output.renderOutput(dataTable, element);\n",
              "        const docLink = document.createElement('div');\n",
              "        docLink.innerHTML = docLinkHtml;\n",
              "        element.appendChild(docLink);\n",
              "      }\n",
              "    </script>\n",
              "  </div>\n",
              "\n",
              "\n",
              "<div id=\"df-0caae6ee-d26a-4c91-9cc0-127327f313ea\">\n",
              "  <button class=\"colab-df-quickchart\" onclick=\"quickchart('df-0caae6ee-d26a-4c91-9cc0-127327f313ea')\"\n",
              "            title=\"Suggest charts\"\n",
              "            style=\"display:none;\">\n",
              "\n",
              "<svg xmlns=\"http://www.w3.org/2000/svg\" height=\"24px\"viewBox=\"0 0 24 24\"\n",
              "     width=\"24px\">\n",
              "    <g>\n",
              "        <path d=\"M19 3H5c-1.1 0-2 .9-2 2v14c0 1.1.9 2 2 2h14c1.1 0 2-.9 2-2V5c0-1.1-.9-2-2-2zM9 17H7v-7h2v7zm4 0h-2V7h2v10zm4 0h-2v-4h2v4z\"/>\n",
              "    </g>\n",
              "</svg>\n",
              "  </button>\n",
              "\n",
              "<style>\n",
              "  .colab-df-quickchart {\n",
              "      --bg-color: #E8F0FE;\n",
              "      --fill-color: #1967D2;\n",
              "      --hover-bg-color: #E2EBFA;\n",
              "      --hover-fill-color: #174EA6;\n",
              "      --disabled-fill-color: #AAA;\n",
              "      --disabled-bg-color: #DDD;\n",
              "  }\n",
              "\n",
              "  [theme=dark] .colab-df-quickchart {\n",
              "      --bg-color: #3B4455;\n",
              "      --fill-color: #D2E3FC;\n",
              "      --hover-bg-color: #434B5C;\n",
              "      --hover-fill-color: #FFFFFF;\n",
              "      --disabled-bg-color: #3B4455;\n",
              "      --disabled-fill-color: #666;\n",
              "  }\n",
              "\n",
              "  .colab-df-quickchart {\n",
              "    background-color: var(--bg-color);\n",
              "    border: none;\n",
              "    border-radius: 50%;\n",
              "    cursor: pointer;\n",
              "    display: none;\n",
              "    fill: var(--fill-color);\n",
              "    height: 32px;\n",
              "    padding: 0;\n",
              "    width: 32px;\n",
              "  }\n",
              "\n",
              "  .colab-df-quickchart:hover {\n",
              "    background-color: var(--hover-bg-color);\n",
              "    box-shadow: 0 1px 2px rgba(60, 64, 67, 0.3), 0 1px 3px 1px rgba(60, 64, 67, 0.15);\n",
              "    fill: var(--button-hover-fill-color);\n",
              "  }\n",
              "\n",
              "  .colab-df-quickchart-complete:disabled,\n",
              "  .colab-df-quickchart-complete:disabled:hover {\n",
              "    background-color: var(--disabled-bg-color);\n",
              "    fill: var(--disabled-fill-color);\n",
              "    box-shadow: none;\n",
              "  }\n",
              "\n",
              "  .colab-df-spinner {\n",
              "    border: 2px solid var(--fill-color);\n",
              "    border-color: transparent;\n",
              "    border-bottom-color: var(--fill-color);\n",
              "    animation:\n",
              "      spin 1s steps(1) infinite;\n",
              "  }\n",
              "\n",
              "  @keyframes spin {\n",
              "    0% {\n",
              "      border-color: transparent;\n",
              "      border-bottom-color: var(--fill-color);\n",
              "      border-left-color: var(--fill-color);\n",
              "    }\n",
              "    20% {\n",
              "      border-color: transparent;\n",
              "      border-left-color: var(--fill-color);\n",
              "      border-top-color: var(--fill-color);\n",
              "    }\n",
              "    30% {\n",
              "      border-color: transparent;\n",
              "      border-left-color: var(--fill-color);\n",
              "      border-top-color: var(--fill-color);\n",
              "      border-right-color: var(--fill-color);\n",
              "    }\n",
              "    40% {\n",
              "      border-color: transparent;\n",
              "      border-right-color: var(--fill-color);\n",
              "      border-top-color: var(--fill-color);\n",
              "    }\n",
              "    60% {\n",
              "      border-color: transparent;\n",
              "      border-right-color: var(--fill-color);\n",
              "    }\n",
              "    80% {\n",
              "      border-color: transparent;\n",
              "      border-right-color: var(--fill-color);\n",
              "      border-bottom-color: var(--fill-color);\n",
              "    }\n",
              "    90% {\n",
              "      border-color: transparent;\n",
              "      border-bottom-color: var(--fill-color);\n",
              "    }\n",
              "  }\n",
              "</style>\n",
              "\n",
              "  <script>\n",
              "    async function quickchart(key) {\n",
              "      const quickchartButtonEl =\n",
              "        document.querySelector('#' + key + ' button');\n",
              "      quickchartButtonEl.disabled = true;  // To prevent multiple clicks.\n",
              "      quickchartButtonEl.classList.add('colab-df-spinner');\n",
              "      try {\n",
              "        const charts = await google.colab.kernel.invokeFunction(\n",
              "            'suggestCharts', [key], {});\n",
              "      } catch (error) {\n",
              "        console.error('Error during call to suggestCharts:', error);\n",
              "      }\n",
              "      quickchartButtonEl.classList.remove('colab-df-spinner');\n",
              "      quickchartButtonEl.classList.add('colab-df-quickchart-complete');\n",
              "    }\n",
              "    (() => {\n",
              "      let quickchartButtonEl =\n",
              "        document.querySelector('#df-0caae6ee-d26a-4c91-9cc0-127327f313ea button');\n",
              "      quickchartButtonEl.style.display =\n",
              "        google.colab.kernel.accessAllowed ? 'block' : 'none';\n",
              "    })();\n",
              "  </script>\n",
              "</div>\n",
              "    </div>\n",
              "  </div>\n"
            ],
            "text/plain": [
              "   year    make transmission state  condition  odometer  color interior  \\\n",
              "0  2015     Kia    automatic    ca        5.0   16639.0  white    black   \n",
              "1  2015     Kia    automatic    ca        5.0    9393.0  white    beige   \n",
              "2  2014     BMW    automatic    ca       45.0    1331.0   gray    black   \n",
              "3  2015   Volvo    automatic    ca       41.0   14282.0  white    black   \n",
              "5  2015  Nissan    automatic    ca        1.0    5554.0   gray    black   \n",
              "\n",
              "   sellingprice body_type  \n",
              "0       21500.0       suv  \n",
              "1       21500.0       suv  \n",
              "2       30000.0     sedan  \n",
              "3       27750.0     sedan  \n",
              "5       10900.0     sedan  "
            ]
          },
          "execution_count": 61,
          "metadata": {},
          "output_type": "execute_result"
        }
      ],
      "source": [
        "#Drop the aforementioned columns\n",
        "cp_df.drop(columns=['trim', 'model', 'age', 'body'], inplace=True)\n",
        "cp_df.head()"
      ]
    },
    {
      "cell_type": "code",
      "execution_count": null,
      "metadata": {
        "colab": {
          "base_uri": "https://localhost:8080/",
          "height": 206
        },
        "id": "Pt7WAndVAaoT",
        "outputId": "6af4a49e-f544-4763-d115-09e1a3c85221"
      },
      "outputs": [
        {
          "data": {
            "application/vnd.google.colaboratory.intrinsic+json": {
              "type": "dataframe",
              "variable_name": "cp_df"
            },
            "text/html": [
              "\n",
              "  <div id=\"df-e5651dea-124f-4c93-a46e-8cef3f96da41\" class=\"colab-df-container\">\n",
              "    <div>\n",
              "<style scoped>\n",
              "    .dataframe tbody tr th:only-of-type {\n",
              "        vertical-align: middle;\n",
              "    }\n",
              "\n",
              "    .dataframe tbody tr th {\n",
              "        vertical-align: top;\n",
              "    }\n",
              "\n",
              "    .dataframe thead th {\n",
              "        text-align: right;\n",
              "    }\n",
              "</style>\n",
              "<table border=\"1\" class=\"dataframe\">\n",
              "  <thead>\n",
              "    <tr style=\"text-align: right;\">\n",
              "      <th></th>\n",
              "      <th>year</th>\n",
              "      <th>make</th>\n",
              "      <th>transmission</th>\n",
              "      <th>state</th>\n",
              "      <th>condition</th>\n",
              "      <th>odometer</th>\n",
              "      <th>color</th>\n",
              "      <th>interior</th>\n",
              "      <th>sellingprice</th>\n",
              "      <th>body_type</th>\n",
              "    </tr>\n",
              "  </thead>\n",
              "  <tbody>\n",
              "    <tr>\n",
              "      <th>0</th>\n",
              "      <td>2015</td>\n",
              "      <td>Kia</td>\n",
              "      <td>automatic</td>\n",
              "      <td>ca</td>\n",
              "      <td>5.0</td>\n",
              "      <td>16639.0</td>\n",
              "      <td>white</td>\n",
              "      <td>black</td>\n",
              "      <td>21500.0</td>\n",
              "      <td>suv</td>\n",
              "    </tr>\n",
              "    <tr>\n",
              "      <th>1</th>\n",
              "      <td>2015</td>\n",
              "      <td>Kia</td>\n",
              "      <td>automatic</td>\n",
              "      <td>ca</td>\n",
              "      <td>5.0</td>\n",
              "      <td>9393.0</td>\n",
              "      <td>white</td>\n",
              "      <td>beige</td>\n",
              "      <td>21500.0</td>\n",
              "      <td>suv</td>\n",
              "    </tr>\n",
              "    <tr>\n",
              "      <th>2</th>\n",
              "      <td>2014</td>\n",
              "      <td>BMW</td>\n",
              "      <td>automatic</td>\n",
              "      <td>ca</td>\n",
              "      <td>45.0</td>\n",
              "      <td>1331.0</td>\n",
              "      <td>gray</td>\n",
              "      <td>black</td>\n",
              "      <td>30000.0</td>\n",
              "      <td>sedan</td>\n",
              "    </tr>\n",
              "    <tr>\n",
              "      <th>3</th>\n",
              "      <td>2015</td>\n",
              "      <td>Volvo</td>\n",
              "      <td>automatic</td>\n",
              "      <td>ca</td>\n",
              "      <td>41.0</td>\n",
              "      <td>14282.0</td>\n",
              "      <td>white</td>\n",
              "      <td>black</td>\n",
              "      <td>27750.0</td>\n",
              "      <td>sedan</td>\n",
              "    </tr>\n",
              "    <tr>\n",
              "      <th>5</th>\n",
              "      <td>2015</td>\n",
              "      <td>Nissan</td>\n",
              "      <td>automatic</td>\n",
              "      <td>ca</td>\n",
              "      <td>1.0</td>\n",
              "      <td>5554.0</td>\n",
              "      <td>gray</td>\n",
              "      <td>black</td>\n",
              "      <td>10900.0</td>\n",
              "      <td>sedan</td>\n",
              "    </tr>\n",
              "  </tbody>\n",
              "</table>\n",
              "</div>\n",
              "    <div class=\"colab-df-buttons\">\n",
              "\n",
              "  <div class=\"colab-df-container\">\n",
              "    <button class=\"colab-df-convert\" onclick=\"convertToInteractive('df-e5651dea-124f-4c93-a46e-8cef3f96da41')\"\n",
              "            title=\"Convert this dataframe to an interactive table.\"\n",
              "            style=\"display:none;\">\n",
              "\n",
              "  <svg xmlns=\"http://www.w3.org/2000/svg\" height=\"24px\" viewBox=\"0 -960 960 960\">\n",
              "    <path d=\"M120-120v-720h720v720H120Zm60-500h600v-160H180v160Zm220 220h160v-160H400v160Zm0 220h160v-160H400v160ZM180-400h160v-160H180v160Zm440 0h160v-160H620v160ZM180-180h160v-160H180v160Zm440 0h160v-160H620v160Z\"/>\n",
              "  </svg>\n",
              "    </button>\n",
              "\n",
              "  <style>\n",
              "    .colab-df-container {\n",
              "      display:flex;\n",
              "      gap: 12px;\n",
              "    }\n",
              "\n",
              "    .colab-df-convert {\n",
              "      background-color: #E8F0FE;\n",
              "      border: none;\n",
              "      border-radius: 50%;\n",
              "      cursor: pointer;\n",
              "      display: none;\n",
              "      fill: #1967D2;\n",
              "      height: 32px;\n",
              "      padding: 0 0 0 0;\n",
              "      width: 32px;\n",
              "    }\n",
              "\n",
              "    .colab-df-convert:hover {\n",
              "      background-color: #E2EBFA;\n",
              "      box-shadow: 0px 1px 2px rgba(60, 64, 67, 0.3), 0px 1px 3px 1px rgba(60, 64, 67, 0.15);\n",
              "      fill: #174EA6;\n",
              "    }\n",
              "\n",
              "    .colab-df-buttons div {\n",
              "      margin-bottom: 4px;\n",
              "    }\n",
              "\n",
              "    [theme=dark] .colab-df-convert {\n",
              "      background-color: #3B4455;\n",
              "      fill: #D2E3FC;\n",
              "    }\n",
              "\n",
              "    [theme=dark] .colab-df-convert:hover {\n",
              "      background-color: #434B5C;\n",
              "      box-shadow: 0px 1px 3px 1px rgba(0, 0, 0, 0.15);\n",
              "      filter: drop-shadow(0px 1px 2px rgba(0, 0, 0, 0.3));\n",
              "      fill: #FFFFFF;\n",
              "    }\n",
              "  </style>\n",
              "\n",
              "    <script>\n",
              "      const buttonEl =\n",
              "        document.querySelector('#df-e5651dea-124f-4c93-a46e-8cef3f96da41 button.colab-df-convert');\n",
              "      buttonEl.style.display =\n",
              "        google.colab.kernel.accessAllowed ? 'block' : 'none';\n",
              "\n",
              "      async function convertToInteractive(key) {\n",
              "        const element = document.querySelector('#df-e5651dea-124f-4c93-a46e-8cef3f96da41');\n",
              "        const dataTable =\n",
              "          await google.colab.kernel.invokeFunction('convertToInteractive',\n",
              "                                                    [key], {});\n",
              "        if (!dataTable) return;\n",
              "\n",
              "        const docLinkHtml = 'Like what you see? Visit the ' +\n",
              "          '<a target=\"_blank\" href=https://colab.research.google.com/notebooks/data_table.ipynb>data table notebook</a>'\n",
              "          + ' to learn more about interactive tables.';\n",
              "        element.innerHTML = '';\n",
              "        dataTable['output_type'] = 'display_data';\n",
              "        await google.colab.output.renderOutput(dataTable, element);\n",
              "        const docLink = document.createElement('div');\n",
              "        docLink.innerHTML = docLinkHtml;\n",
              "        element.appendChild(docLink);\n",
              "      }\n",
              "    </script>\n",
              "  </div>\n",
              "\n",
              "\n",
              "<div id=\"df-f16b0bc4-2b35-44a4-9ec7-379e0fc275c0\">\n",
              "  <button class=\"colab-df-quickchart\" onclick=\"quickchart('df-f16b0bc4-2b35-44a4-9ec7-379e0fc275c0')\"\n",
              "            title=\"Suggest charts\"\n",
              "            style=\"display:none;\">\n",
              "\n",
              "<svg xmlns=\"http://www.w3.org/2000/svg\" height=\"24px\"viewBox=\"0 0 24 24\"\n",
              "     width=\"24px\">\n",
              "    <g>\n",
              "        <path d=\"M19 3H5c-1.1 0-2 .9-2 2v14c0 1.1.9 2 2 2h14c1.1 0 2-.9 2-2V5c0-1.1-.9-2-2-2zM9 17H7v-7h2v7zm4 0h-2V7h2v10zm4 0h-2v-4h2v4z\"/>\n",
              "    </g>\n",
              "</svg>\n",
              "  </button>\n",
              "\n",
              "<style>\n",
              "  .colab-df-quickchart {\n",
              "      --bg-color: #E8F0FE;\n",
              "      --fill-color: #1967D2;\n",
              "      --hover-bg-color: #E2EBFA;\n",
              "      --hover-fill-color: #174EA6;\n",
              "      --disabled-fill-color: #AAA;\n",
              "      --disabled-bg-color: #DDD;\n",
              "  }\n",
              "\n",
              "  [theme=dark] .colab-df-quickchart {\n",
              "      --bg-color: #3B4455;\n",
              "      --fill-color: #D2E3FC;\n",
              "      --hover-bg-color: #434B5C;\n",
              "      --hover-fill-color: #FFFFFF;\n",
              "      --disabled-bg-color: #3B4455;\n",
              "      --disabled-fill-color: #666;\n",
              "  }\n",
              "\n",
              "  .colab-df-quickchart {\n",
              "    background-color: var(--bg-color);\n",
              "    border: none;\n",
              "    border-radius: 50%;\n",
              "    cursor: pointer;\n",
              "    display: none;\n",
              "    fill: var(--fill-color);\n",
              "    height: 32px;\n",
              "    padding: 0;\n",
              "    width: 32px;\n",
              "  }\n",
              "\n",
              "  .colab-df-quickchart:hover {\n",
              "    background-color: var(--hover-bg-color);\n",
              "    box-shadow: 0 1px 2px rgba(60, 64, 67, 0.3), 0 1px 3px 1px rgba(60, 64, 67, 0.15);\n",
              "    fill: var(--button-hover-fill-color);\n",
              "  }\n",
              "\n",
              "  .colab-df-quickchart-complete:disabled,\n",
              "  .colab-df-quickchart-complete:disabled:hover {\n",
              "    background-color: var(--disabled-bg-color);\n",
              "    fill: var(--disabled-fill-color);\n",
              "    box-shadow: none;\n",
              "  }\n",
              "\n",
              "  .colab-df-spinner {\n",
              "    border: 2px solid var(--fill-color);\n",
              "    border-color: transparent;\n",
              "    border-bottom-color: var(--fill-color);\n",
              "    animation:\n",
              "      spin 1s steps(1) infinite;\n",
              "  }\n",
              "\n",
              "  @keyframes spin {\n",
              "    0% {\n",
              "      border-color: transparent;\n",
              "      border-bottom-color: var(--fill-color);\n",
              "      border-left-color: var(--fill-color);\n",
              "    }\n",
              "    20% {\n",
              "      border-color: transparent;\n",
              "      border-left-color: var(--fill-color);\n",
              "      border-top-color: var(--fill-color);\n",
              "    }\n",
              "    30% {\n",
              "      border-color: transparent;\n",
              "      border-left-color: var(--fill-color);\n",
              "      border-top-color: var(--fill-color);\n",
              "      border-right-color: var(--fill-color);\n",
              "    }\n",
              "    40% {\n",
              "      border-color: transparent;\n",
              "      border-right-color: var(--fill-color);\n",
              "      border-top-color: var(--fill-color);\n",
              "    }\n",
              "    60% {\n",
              "      border-color: transparent;\n",
              "      border-right-color: var(--fill-color);\n",
              "    }\n",
              "    80% {\n",
              "      border-color: transparent;\n",
              "      border-right-color: var(--fill-color);\n",
              "      border-bottom-color: var(--fill-color);\n",
              "    }\n",
              "    90% {\n",
              "      border-color: transparent;\n",
              "      border-bottom-color: var(--fill-color);\n",
              "    }\n",
              "  }\n",
              "</style>\n",
              "\n",
              "  <script>\n",
              "    async function quickchart(key) {\n",
              "      const quickchartButtonEl =\n",
              "        document.querySelector('#' + key + ' button');\n",
              "      quickchartButtonEl.disabled = true;  // To prevent multiple clicks.\n",
              "      quickchartButtonEl.classList.add('colab-df-spinner');\n",
              "      try {\n",
              "        const charts = await google.colab.kernel.invokeFunction(\n",
              "            'suggestCharts', [key], {});\n",
              "      } catch (error) {\n",
              "        console.error('Error during call to suggestCharts:', error);\n",
              "      }\n",
              "      quickchartButtonEl.classList.remove('colab-df-spinner');\n",
              "      quickchartButtonEl.classList.add('colab-df-quickchart-complete');\n",
              "    }\n",
              "    (() => {\n",
              "      let quickchartButtonEl =\n",
              "        document.querySelector('#df-f16b0bc4-2b35-44a4-9ec7-379e0fc275c0 button');\n",
              "      quickchartButtonEl.style.display =\n",
              "        google.colab.kernel.accessAllowed ? 'block' : 'none';\n",
              "    })();\n",
              "  </script>\n",
              "</div>\n",
              "    </div>\n",
              "  </div>\n"
            ],
            "text/plain": [
              "   year    make transmission state  condition  odometer  color interior  \\\n",
              "0  2015     Kia    automatic    ca        5.0   16639.0  white    black   \n",
              "1  2015     Kia    automatic    ca        5.0    9393.0  white    beige   \n",
              "2  2014     BMW    automatic    ca       45.0    1331.0   gray    black   \n",
              "3  2015   Volvo    automatic    ca       41.0   14282.0  white    black   \n",
              "5  2015  Nissan    automatic    ca        1.0    5554.0   gray    black   \n",
              "\n",
              "   sellingprice body_type  \n",
              "0       21500.0       suv  \n",
              "1       21500.0       suv  \n",
              "2       30000.0     sedan  \n",
              "3       27750.0     sedan  \n",
              "5       10900.0     sedan  "
            ]
          },
          "execution_count": 62,
          "metadata": {},
          "output_type": "execute_result"
        }
      ],
      "source": [
        "cp_df.head()"
      ]
    },
    {
      "cell_type": "markdown",
      "metadata": {
        "id": "tEbnz4S69BJL"
      },
      "source": [
        "#Part 4: Preparing for Modeling"
      ]
    },
    {
      "cell_type": "markdown",
      "metadata": {
        "id": "7QPGuWF7BREt"
      },
      "source": [
        "To prepare for modeling, we had to process the raw data further to be more fit. Many of our variables are categorical: `make`, `transmission`, `state`, `color`, `interior`, `body_type`. Thus, to run our regression models on these variables, we had to utilize different encoding methods that convert the categorical inputs into numerical ones. We experimented with various methods including one hot encoding and label encoding. We utilized both encoding methods on our models and found that depending on the model, there was a better encoding method based on performance and computing cost, which we will dive further into in part 5.\n",
        "\n",
        "With the one hot encoded data frame, the number of features expand significantly, which may impact performance and computing costs when running our model. We also realized there may still be multicollinearity issues in our data. For example, the condition of the car probably is correlated with other variables such as odometer. This multicollinearity issue which may impact effectiveness of our models combined with the number of features led us to utilize the unsupervised ML technique in PCA. Because PCA is not scale invariant, we had to normalize our data first before inputting it for PCA."
      ]
    },
    {
      "cell_type": "markdown",
      "metadata": {
        "id": "UZ3POfdT-ATx"
      },
      "source": [
        "##4.1 Encoding Categorical Variables"
      ]
    },
    {
      "cell_type": "markdown",
      "metadata": {
        "id": "G61FgAL3BTT8"
      },
      "source": [
        "We have several categorical variables in our data set: `make`, `transmission`, `state`, `color`, `interior`, `body_type`. We need these inputs to be numerical, and thus utilize label encoding and one hot encoding as shown below."
      ]
    },
    {
      "cell_type": "markdown",
      "metadata": {
        "id": "6yJSquXm24J5"
      },
      "source": [
        "### 4.1.1 Label Encoding"
      ]
    },
    {
      "cell_type": "code",
      "execution_count": null,
      "metadata": {
        "colab": {
          "base_uri": "https://localhost:8080/"
        },
        "id": "XyJ1ECnJCLuy",
        "outputId": "721569b9-98cf-41b9-817d-0f18dde5bed7"
      },
      "outputs": [
        {
          "data": {
            "text/plain": [
              "Index(['year', 'make', 'transmission', 'state', 'condition', 'odometer',\n",
              "       'color', 'interior', 'sellingprice', 'body_type'],\n",
              "      dtype='object')"
            ]
          },
          "execution_count": 63,
          "metadata": {},
          "output_type": "execute_result"
        }
      ],
      "source": [
        "#Label encoding categorical variables\n",
        "categorical_cols = ['make', 'transmission', 'state', 'color', 'interior', 'body_type']\n",
        "label_encoded_cp_df = cp_df.copy()\n",
        "for col in categorical_cols:\n",
        "  encoder = LabelEncoder()\n",
        "  label_encoded_cp_df[col] = encoder.fit_transform(cp_df[col])\n",
        "label_encoded_cp_df.columns"
      ]
    },
    {
      "cell_type": "markdown",
      "metadata": {
        "id": "RazInAw7dp2n"
      },
      "source": [
        "### 4.1.2 One Hot Encoding\n"
      ]
    },
    {
      "cell_type": "code",
      "execution_count": null,
      "metadata": {
        "id": "Jjpd6kajXxX_"
      },
      "outputs": [],
      "source": [
        "# One-hot encode categorical variables\n",
        "encoded_cp_df = cp_df.copy()\n",
        "one_hot_cp_df = pd.get_dummies(encoded_cp_df, columns = ['make', 'transmission','state','color','interior','body_type'])"
      ]
    },
    {
      "cell_type": "code",
      "execution_count": null,
      "metadata": {
        "colab": {
          "base_uri": "https://localhost:8080/",
          "height": 273
        },
        "id": "7xWe9UPbdaIh",
        "outputId": "254d9027-ff33-46df-c782-b997175a7067"
      },
      "outputs": [
        {
          "data": {
            "application/vnd.google.colaboratory.intrinsic+json": {
              "type": "dataframe",
              "variable_name": "one_hot_cp_df"
            },
            "text/html": [
              "\n",
              "  <div id=\"df-74b626f5-15e4-4282-9cd2-f853987d25a0\" class=\"colab-df-container\">\n",
              "    <div>\n",
              "<style scoped>\n",
              "    .dataframe tbody tr th:only-of-type {\n",
              "        vertical-align: middle;\n",
              "    }\n",
              "\n",
              "    .dataframe tbody tr th {\n",
              "        vertical-align: top;\n",
              "    }\n",
              "\n",
              "    .dataframe thead th {\n",
              "        text-align: right;\n",
              "    }\n",
              "</style>\n",
              "<table border=\"1\" class=\"dataframe\">\n",
              "  <thead>\n",
              "    <tr style=\"text-align: right;\">\n",
              "      <th></th>\n",
              "      <th>year</th>\n",
              "      <th>condition</th>\n",
              "      <th>odometer</th>\n",
              "      <th>sellingprice</th>\n",
              "      <th>make_Acura</th>\n",
              "      <th>make_Audi</th>\n",
              "      <th>make_BMW</th>\n",
              "      <th>make_Bentley</th>\n",
              "      <th>make_Buick</th>\n",
              "      <th>make_Cadillac</th>\n",
              "      <th>...</th>\n",
              "      <th>interior_—</th>\n",
              "      <th>body_type_cab</th>\n",
              "      <th>body_type_convertible</th>\n",
              "      <th>body_type_coupe</th>\n",
              "      <th>body_type_hatchback</th>\n",
              "      <th>body_type_minivan</th>\n",
              "      <th>body_type_sedan</th>\n",
              "      <th>body_type_suv</th>\n",
              "      <th>body_type_van</th>\n",
              "      <th>body_type_wagon</th>\n",
              "    </tr>\n",
              "  </thead>\n",
              "  <tbody>\n",
              "    <tr>\n",
              "      <th>0</th>\n",
              "      <td>2015</td>\n",
              "      <td>5.0</td>\n",
              "      <td>16639.0</td>\n",
              "      <td>21500.0</td>\n",
              "      <td>0</td>\n",
              "      <td>0</td>\n",
              "      <td>0</td>\n",
              "      <td>0</td>\n",
              "      <td>0</td>\n",
              "      <td>0</td>\n",
              "      <td>...</td>\n",
              "      <td>0</td>\n",
              "      <td>0</td>\n",
              "      <td>0</td>\n",
              "      <td>0</td>\n",
              "      <td>0</td>\n",
              "      <td>0</td>\n",
              "      <td>0</td>\n",
              "      <td>1</td>\n",
              "      <td>0</td>\n",
              "      <td>0</td>\n",
              "    </tr>\n",
              "    <tr>\n",
              "      <th>1</th>\n",
              "      <td>2015</td>\n",
              "      <td>5.0</td>\n",
              "      <td>9393.0</td>\n",
              "      <td>21500.0</td>\n",
              "      <td>0</td>\n",
              "      <td>0</td>\n",
              "      <td>0</td>\n",
              "      <td>0</td>\n",
              "      <td>0</td>\n",
              "      <td>0</td>\n",
              "      <td>...</td>\n",
              "      <td>0</td>\n",
              "      <td>0</td>\n",
              "      <td>0</td>\n",
              "      <td>0</td>\n",
              "      <td>0</td>\n",
              "      <td>0</td>\n",
              "      <td>0</td>\n",
              "      <td>1</td>\n",
              "      <td>0</td>\n",
              "      <td>0</td>\n",
              "    </tr>\n",
              "    <tr>\n",
              "      <th>2</th>\n",
              "      <td>2014</td>\n",
              "      <td>45.0</td>\n",
              "      <td>1331.0</td>\n",
              "      <td>30000.0</td>\n",
              "      <td>0</td>\n",
              "      <td>0</td>\n",
              "      <td>1</td>\n",
              "      <td>0</td>\n",
              "      <td>0</td>\n",
              "      <td>0</td>\n",
              "      <td>...</td>\n",
              "      <td>0</td>\n",
              "      <td>0</td>\n",
              "      <td>0</td>\n",
              "      <td>0</td>\n",
              "      <td>0</td>\n",
              "      <td>0</td>\n",
              "      <td>1</td>\n",
              "      <td>0</td>\n",
              "      <td>0</td>\n",
              "      <td>0</td>\n",
              "    </tr>\n",
              "    <tr>\n",
              "      <th>3</th>\n",
              "      <td>2015</td>\n",
              "      <td>41.0</td>\n",
              "      <td>14282.0</td>\n",
              "      <td>27750.0</td>\n",
              "      <td>0</td>\n",
              "      <td>0</td>\n",
              "      <td>0</td>\n",
              "      <td>0</td>\n",
              "      <td>0</td>\n",
              "      <td>0</td>\n",
              "      <td>...</td>\n",
              "      <td>0</td>\n",
              "      <td>0</td>\n",
              "      <td>0</td>\n",
              "      <td>0</td>\n",
              "      <td>0</td>\n",
              "      <td>0</td>\n",
              "      <td>1</td>\n",
              "      <td>0</td>\n",
              "      <td>0</td>\n",
              "      <td>0</td>\n",
              "    </tr>\n",
              "    <tr>\n",
              "      <th>5</th>\n",
              "      <td>2015</td>\n",
              "      <td>1.0</td>\n",
              "      <td>5554.0</td>\n",
              "      <td>10900.0</td>\n",
              "      <td>0</td>\n",
              "      <td>0</td>\n",
              "      <td>0</td>\n",
              "      <td>0</td>\n",
              "      <td>0</td>\n",
              "      <td>0</td>\n",
              "      <td>...</td>\n",
              "      <td>0</td>\n",
              "      <td>0</td>\n",
              "      <td>0</td>\n",
              "      <td>0</td>\n",
              "      <td>0</td>\n",
              "      <td>0</td>\n",
              "      <td>1</td>\n",
              "      <td>0</td>\n",
              "      <td>0</td>\n",
              "      <td>0</td>\n",
              "    </tr>\n",
              "  </tbody>\n",
              "</table>\n",
              "<p>5 rows × 129 columns</p>\n",
              "</div>\n",
              "    <div class=\"colab-df-buttons\">\n",
              "\n",
              "  <div class=\"colab-df-container\">\n",
              "    <button class=\"colab-df-convert\" onclick=\"convertToInteractive('df-74b626f5-15e4-4282-9cd2-f853987d25a0')\"\n",
              "            title=\"Convert this dataframe to an interactive table.\"\n",
              "            style=\"display:none;\">\n",
              "\n",
              "  <svg xmlns=\"http://www.w3.org/2000/svg\" height=\"24px\" viewBox=\"0 -960 960 960\">\n",
              "    <path d=\"M120-120v-720h720v720H120Zm60-500h600v-160H180v160Zm220 220h160v-160H400v160Zm0 220h160v-160H400v160ZM180-400h160v-160H180v160Zm440 0h160v-160H620v160ZM180-180h160v-160H180v160Zm440 0h160v-160H620v160Z\"/>\n",
              "  </svg>\n",
              "    </button>\n",
              "\n",
              "  <style>\n",
              "    .colab-df-container {\n",
              "      display:flex;\n",
              "      gap: 12px;\n",
              "    }\n",
              "\n",
              "    .colab-df-convert {\n",
              "      background-color: #E8F0FE;\n",
              "      border: none;\n",
              "      border-radius: 50%;\n",
              "      cursor: pointer;\n",
              "      display: none;\n",
              "      fill: #1967D2;\n",
              "      height: 32px;\n",
              "      padding: 0 0 0 0;\n",
              "      width: 32px;\n",
              "    }\n",
              "\n",
              "    .colab-df-convert:hover {\n",
              "      background-color: #E2EBFA;\n",
              "      box-shadow: 0px 1px 2px rgba(60, 64, 67, 0.3), 0px 1px 3px 1px rgba(60, 64, 67, 0.15);\n",
              "      fill: #174EA6;\n",
              "    }\n",
              "\n",
              "    .colab-df-buttons div {\n",
              "      margin-bottom: 4px;\n",
              "    }\n",
              "\n",
              "    [theme=dark] .colab-df-convert {\n",
              "      background-color: #3B4455;\n",
              "      fill: #D2E3FC;\n",
              "    }\n",
              "\n",
              "    [theme=dark] .colab-df-convert:hover {\n",
              "      background-color: #434B5C;\n",
              "      box-shadow: 0px 1px 3px 1px rgba(0, 0, 0, 0.15);\n",
              "      filter: drop-shadow(0px 1px 2px rgba(0, 0, 0, 0.3));\n",
              "      fill: #FFFFFF;\n",
              "    }\n",
              "  </style>\n",
              "\n",
              "    <script>\n",
              "      const buttonEl =\n",
              "        document.querySelector('#df-74b626f5-15e4-4282-9cd2-f853987d25a0 button.colab-df-convert');\n",
              "      buttonEl.style.display =\n",
              "        google.colab.kernel.accessAllowed ? 'block' : 'none';\n",
              "\n",
              "      async function convertToInteractive(key) {\n",
              "        const element = document.querySelector('#df-74b626f5-15e4-4282-9cd2-f853987d25a0');\n",
              "        const dataTable =\n",
              "          await google.colab.kernel.invokeFunction('convertToInteractive',\n",
              "                                                    [key], {});\n",
              "        if (!dataTable) return;\n",
              "\n",
              "        const docLinkHtml = 'Like what you see? Visit the ' +\n",
              "          '<a target=\"_blank\" href=https://colab.research.google.com/notebooks/data_table.ipynb>data table notebook</a>'\n",
              "          + ' to learn more about interactive tables.';\n",
              "        element.innerHTML = '';\n",
              "        dataTable['output_type'] = 'display_data';\n",
              "        await google.colab.output.renderOutput(dataTable, element);\n",
              "        const docLink = document.createElement('div');\n",
              "        docLink.innerHTML = docLinkHtml;\n",
              "        element.appendChild(docLink);\n",
              "      }\n",
              "    </script>\n",
              "  </div>\n",
              "\n",
              "\n",
              "<div id=\"df-b37dc85e-0b2b-46ea-b3cd-271e2dc1e4a4\">\n",
              "  <button class=\"colab-df-quickchart\" onclick=\"quickchart('df-b37dc85e-0b2b-46ea-b3cd-271e2dc1e4a4')\"\n",
              "            title=\"Suggest charts\"\n",
              "            style=\"display:none;\">\n",
              "\n",
              "<svg xmlns=\"http://www.w3.org/2000/svg\" height=\"24px\"viewBox=\"0 0 24 24\"\n",
              "     width=\"24px\">\n",
              "    <g>\n",
              "        <path d=\"M19 3H5c-1.1 0-2 .9-2 2v14c0 1.1.9 2 2 2h14c1.1 0 2-.9 2-2V5c0-1.1-.9-2-2-2zM9 17H7v-7h2v7zm4 0h-2V7h2v10zm4 0h-2v-4h2v4z\"/>\n",
              "    </g>\n",
              "</svg>\n",
              "  </button>\n",
              "\n",
              "<style>\n",
              "  .colab-df-quickchart {\n",
              "      --bg-color: #E8F0FE;\n",
              "      --fill-color: #1967D2;\n",
              "      --hover-bg-color: #E2EBFA;\n",
              "      --hover-fill-color: #174EA6;\n",
              "      --disabled-fill-color: #AAA;\n",
              "      --disabled-bg-color: #DDD;\n",
              "  }\n",
              "\n",
              "  [theme=dark] .colab-df-quickchart {\n",
              "      --bg-color: #3B4455;\n",
              "      --fill-color: #D2E3FC;\n",
              "      --hover-bg-color: #434B5C;\n",
              "      --hover-fill-color: #FFFFFF;\n",
              "      --disabled-bg-color: #3B4455;\n",
              "      --disabled-fill-color: #666;\n",
              "  }\n",
              "\n",
              "  .colab-df-quickchart {\n",
              "    background-color: var(--bg-color);\n",
              "    border: none;\n",
              "    border-radius: 50%;\n",
              "    cursor: pointer;\n",
              "    display: none;\n",
              "    fill: var(--fill-color);\n",
              "    height: 32px;\n",
              "    padding: 0;\n",
              "    width: 32px;\n",
              "  }\n",
              "\n",
              "  .colab-df-quickchart:hover {\n",
              "    background-color: var(--hover-bg-color);\n",
              "    box-shadow: 0 1px 2px rgba(60, 64, 67, 0.3), 0 1px 3px 1px rgba(60, 64, 67, 0.15);\n",
              "    fill: var(--button-hover-fill-color);\n",
              "  }\n",
              "\n",
              "  .colab-df-quickchart-complete:disabled,\n",
              "  .colab-df-quickchart-complete:disabled:hover {\n",
              "    background-color: var(--disabled-bg-color);\n",
              "    fill: var(--disabled-fill-color);\n",
              "    box-shadow: none;\n",
              "  }\n",
              "\n",
              "  .colab-df-spinner {\n",
              "    border: 2px solid var(--fill-color);\n",
              "    border-color: transparent;\n",
              "    border-bottom-color: var(--fill-color);\n",
              "    animation:\n",
              "      spin 1s steps(1) infinite;\n",
              "  }\n",
              "\n",
              "  @keyframes spin {\n",
              "    0% {\n",
              "      border-color: transparent;\n",
              "      border-bottom-color: var(--fill-color);\n",
              "      border-left-color: var(--fill-color);\n",
              "    }\n",
              "    20% {\n",
              "      border-color: transparent;\n",
              "      border-left-color: var(--fill-color);\n",
              "      border-top-color: var(--fill-color);\n",
              "    }\n",
              "    30% {\n",
              "      border-color: transparent;\n",
              "      border-left-color: var(--fill-color);\n",
              "      border-top-color: var(--fill-color);\n",
              "      border-right-color: var(--fill-color);\n",
              "    }\n",
              "    40% {\n",
              "      border-color: transparent;\n",
              "      border-right-color: var(--fill-color);\n",
              "      border-top-color: var(--fill-color);\n",
              "    }\n",
              "    60% {\n",
              "      border-color: transparent;\n",
              "      border-right-color: var(--fill-color);\n",
              "    }\n",
              "    80% {\n",
              "      border-color: transparent;\n",
              "      border-right-color: var(--fill-color);\n",
              "      border-bottom-color: var(--fill-color);\n",
              "    }\n",
              "    90% {\n",
              "      border-color: transparent;\n",
              "      border-bottom-color: var(--fill-color);\n",
              "    }\n",
              "  }\n",
              "</style>\n",
              "\n",
              "  <script>\n",
              "    async function quickchart(key) {\n",
              "      const quickchartButtonEl =\n",
              "        document.querySelector('#' + key + ' button');\n",
              "      quickchartButtonEl.disabled = true;  // To prevent multiple clicks.\n",
              "      quickchartButtonEl.classList.add('colab-df-spinner');\n",
              "      try {\n",
              "        const charts = await google.colab.kernel.invokeFunction(\n",
              "            'suggestCharts', [key], {});\n",
              "      } catch (error) {\n",
              "        console.error('Error during call to suggestCharts:', error);\n",
              "      }\n",
              "      quickchartButtonEl.classList.remove('colab-df-spinner');\n",
              "      quickchartButtonEl.classList.add('colab-df-quickchart-complete');\n",
              "    }\n",
              "    (() => {\n",
              "      let quickchartButtonEl =\n",
              "        document.querySelector('#df-b37dc85e-0b2b-46ea-b3cd-271e2dc1e4a4 button');\n",
              "      quickchartButtonEl.style.display =\n",
              "        google.colab.kernel.accessAllowed ? 'block' : 'none';\n",
              "    })();\n",
              "  </script>\n",
              "</div>\n",
              "    </div>\n",
              "  </div>\n"
            ],
            "text/plain": [
              "   year  condition  odometer  sellingprice  make_Acura  make_Audi  make_BMW  \\\n",
              "0  2015        5.0   16639.0       21500.0           0          0         0   \n",
              "1  2015        5.0    9393.0       21500.0           0          0         0   \n",
              "2  2014       45.0    1331.0       30000.0           0          0         1   \n",
              "3  2015       41.0   14282.0       27750.0           0          0         0   \n",
              "5  2015        1.0    5554.0       10900.0           0          0         0   \n",
              "\n",
              "   make_Bentley  make_Buick  make_Cadillac  ...  interior_—  body_type_cab  \\\n",
              "0             0           0              0  ...           0              0   \n",
              "1             0           0              0  ...           0              0   \n",
              "2             0           0              0  ...           0              0   \n",
              "3             0           0              0  ...           0              0   \n",
              "5             0           0              0  ...           0              0   \n",
              "\n",
              "   body_type_convertible  body_type_coupe  body_type_hatchback  \\\n",
              "0                      0                0                    0   \n",
              "1                      0                0                    0   \n",
              "2                      0                0                    0   \n",
              "3                      0                0                    0   \n",
              "5                      0                0                    0   \n",
              "\n",
              "   body_type_minivan  body_type_sedan  body_type_suv  body_type_van  \\\n",
              "0                  0                0              1              0   \n",
              "1                  0                0              1              0   \n",
              "2                  0                1              0              0   \n",
              "3                  0                1              0              0   \n",
              "5                  0                1              0              0   \n",
              "\n",
              "   body_type_wagon  \n",
              "0                0  \n",
              "1                0  \n",
              "2                0  \n",
              "3                0  \n",
              "5                0  \n",
              "\n",
              "[5 rows x 129 columns]"
            ]
          },
          "execution_count": 65,
          "metadata": {},
          "output_type": "execute_result"
        }
      ],
      "source": [
        "# Check new encoded dataframe\n",
        "# Select columns to exclude\n",
        "columns_to_exclude = ['year', 'condition', 'odometer', 'sellingprice', 'age']\n",
        "\n",
        "# Convert True to 1 and False to 0 for selected columns\n",
        "one_hot_cp_df.loc[:, ~one_hot_cp_df.columns.isin(columns_to_exclude)] = one_hot_cp_df.loc[:, ~one_hot_cp_df.columns.isin(columns_to_exclude)].astype(int)\n",
        "one_hot_cp_df.head(5)"
      ]
    },
    {
      "cell_type": "markdown",
      "metadata": {
        "id": "uCvK3v2luHbg"
      },
      "source": [
        "## 4.2 Train/Test Split\n",
        "\n",
        "We need to partition both the data that used one hot encoding and label encoding into training data and test data. Based on our past homework and convention we utilize a 80/20 train/test split.\n",
        "Because PCA is not scale invariant, we apply the `StandardScaler()` object to normalize both the training and test data. If the data is not standardized, our PCA outcome will be different."
      ]
    },
    {
      "cell_type": "markdown",
      "metadata": {
        "id": "S0cuQlovJnB7"
      },
      "source": [
        "### 4.2.1 Train/Test Split for One Hot Encoded Data"
      ]
    },
    {
      "cell_type": "code",
      "execution_count": null,
      "metadata": {
        "id": "P30WjTNifBMp"
      },
      "outputs": [],
      "source": [
        "#Extract non-target variables\n",
        "X_hot = one_hot_cp_df.drop(['sellingprice'], axis = 1)\n",
        "\n",
        "#Extract target variable\n",
        "y_hot = one_hot_cp_df['sellingprice']\n",
        "\n",
        "# Split the data into training and testing sets with stratification and shuffling\n",
        "seed = 12345\n",
        "X_train, X_test, y_train, y_test = train_test_split(X_hot, y_hot, test_size=0.2, random_state=seed)"
      ]
    },
    {
      "cell_type": "code",
      "execution_count": null,
      "metadata": {
        "id": "UWNPUGCnHhjs"
      },
      "outputs": [],
      "source": [
        "#Scale the data because PCA is not scale-invariant\n",
        "scaler = StandardScaler()\n",
        "X_train_sc = scaler.fit_transform(X_train)\n",
        "X_test_sc = scaler.transform(X_test)"
      ]
    },
    {
      "cell_type": "markdown",
      "metadata": {
        "id": "aeJnvEJeJ-gM"
      },
      "source": [
        "### 4.2.2 Train/Test Split for Label Encoded Data"
      ]
    },
    {
      "cell_type": "code",
      "execution_count": null,
      "metadata": {
        "id": "tmmjOFgJ-IL2"
      },
      "outputs": [],
      "source": [
        "seed = 12345\n",
        "#Non-target variables\n",
        "X = label_encoded_cp_df.drop(['sellingprice'], axis = 1)\n",
        "#Target variable\n",
        "y = label_encoded_cp_df['sellingprice']\n",
        "\n",
        "# Split the data into training and testing sets with stratification and shuffling\n",
        "X_train_le, X_test_le, y_train_le, y_test_le = train_test_split(X, y, test_size=0.2, random_state=seed)"
      ]
    },
    {
      "cell_type": "markdown",
      "metadata": {
        "id": "m188fQnT33UU"
      },
      "source": [
        "## 4.3 Principal Component Analysis"
      ]
    },
    {
      "cell_type": "markdown",
      "metadata": {
        "id": "C-AWqSpQ6YWD"
      },
      "source": [
        "We run PCA on the data that uses one hot encoding. There are currently 129 features and we plot cumulative explained variance and number of features to figure out our optimal number of features.\n"
      ]
    },
    {
      "cell_type": "code",
      "execution_count": null,
      "metadata": {
        "id": "4R4_rp7kwFbC"
      },
      "outputs": [],
      "source": [
        "#Instantiate and fit PCA\n",
        "pca = PCA()\n",
        "pca.fit(X_train_sc)\n",
        "# Get explained variance ratios\n",
        "explained_variance_ratios = pca.explained_variance_ratio_\n",
        "# Calculate cumulative explained variance ratios\n",
        "cum_evr = np.cumsum(explained_variance_ratios)"
      ]
    },
    {
      "cell_type": "code",
      "execution_count": null,
      "metadata": {
        "colab": {
          "base_uri": "https://localhost:8080/",
          "height": 410
        },
        "id": "_1_MG4xuweda",
        "outputId": "168d0373-0e9e-4e72-9927-9aa63b1e5bac"
      },
      "outputs": [
        {
          "data": {
            "image/png": "[encoded data removed]",
            "text/plain": [
              "<Figure size 800x400 with 1 Axes>"
            ]
          },
          "metadata": {},
          "output_type": "display_data"
        }
      ],
      "source": [
        "# # Plotting the explained variance vs number of components\n",
        "cum_evr = np.insert(cum_evr, 0, 0)\n",
        "plt.figure(figsize=(8, 4))\n",
        "plt.plot(cum_evr)\n",
        "plt.xlabel('Number of Components')\n",
        "plt.ylabel('Cumulative Explained Variance')\n",
        "plt.title('Cumulative Explained Variance by PCA Components')\n",
        "plt.axhline(y = 0.8, color = 'r', linestyle = '-')\n",
        "plt.grid(True)\n",
        "plt.show()"
      ]
    },
    {
      "cell_type": "markdown",
      "metadata": {
        "id": "uFL22DFyI1NE"
      },
      "source": [
        "We want to select the minimum number of components that will explain 80% of the variance. From the plot, it's obvious that we should use 90 components. We update the training and test data to reflect this."
      ]
    },
    {
      "cell_type": "code",
      "execution_count": null,
      "metadata": {
        "id": "VfAwtdKqJ2hS"
      },
      "outputs": [],
      "source": [
        "#Refitting the data using the new PCA object with 90 components\n",
        "pca_optimal_components = PCA(n_components = 90)\n",
        "\n",
        "X_train_pca = pca_optimal_components.fit_transform(X_train_sc)\n",
        "X_test_pca = pca_optimal_components.transform(X_test_sc)"
      ]
    },
    {
      "cell_type": "markdown",
      "metadata": {
        "id": "uexdS4enLsdn"
      },
      "source": [
        "# Part 5: Modeling\n",
        "We have prepared our data for modeling and split into test and training sets. In this section, we will implement three models on the label encoded and one hot encoded data and evaluate their performances."
      ]
    },
    {
      "cell_type": "markdown",
      "metadata": {
        "id": "seBk0ywU6uVO"
      },
      "source": [
        "## 5.1 Baseline Linear Regression Model\n",
        "\n"
      ]
    },
    {
      "cell_type": "markdown",
      "metadata": {
        "id": "aZ0AiC82eY_x"
      },
      "source": [
        "We begin with a linear regression model as our baseline model. Linear regressions are straightforward to implement and require minimal computation, giving us a good starting point that we can compare with the more complex models we develop later."
      ]
    },
    {
      "cell_type": "markdown",
      "metadata": {
        "id": "2bpHBwTY4DGH"
      },
      "source": [
        "### 5.1.1 One Hot Encoded PCA Transformed Data"
      ]
    },
    {
      "cell_type": "markdown",
      "metadata": {
        "id": "aNbWsU7YgpcJ"
      },
      "source": [
        "Linear regression models without regularization do not take in hyperparameters, so we do not need to perform any sort of hyperparameter optimization before implementing the model. Although this model is scale-invariant, we use the PCA transformed data frame anyways. Reducing the number of features should help avoid overfitting by reducing noise in the data. It will also be more computationally efficient."
      ]
    },
    {
      "cell_type": "code",
      "execution_count": null,
      "metadata": {
        "id": "5nhPEdh9Brr3"
      },
      "outputs": [],
      "source": [
        "#Fit a linear regression model on the PCA transformed data\n",
        "lin_model_pca = LinearRegression()\n",
        "lin_model_pca.fit(X_train_pca, y_train)\n",
        "#Predict on transformed data using linear regression model\n",
        "train_pred_lin = lin_model_pca.predict(X_train_pca)\n",
        "test_pred_lin = lin_model_pca.predict(X_test_pca)"
      ]
    },
    {
      "cell_type": "markdown",
      "metadata": {
        "id": "RxRvgaI7uPrI"
      },
      "source": [
        "### 5.1.2 Evaluating the One Hot Encoded Linear Regression"
      ]
    },
    {
      "cell_type": "markdown",
      "metadata": {
        "id": "OlD1g6UkbCJR"
      },
      "source": [
        "Because the PCA transforms the original features into a set of new components, it does not make sense to analyze regression coefficients on this model. Finding out which of the components is most important will not give us insights as to which of the original features was most important."
      ]
    },
    {
      "cell_type": "code",
      "execution_count": null,
      "metadata": {
        "colab": {
          "base_uri": "https://localhost:8080/"
        },
        "id": "gUXrvy3dCcGJ",
        "outputId": "bc99fa87-c28f-4325-d429-c173e2ac2a06"
      },
      "outputs": [
        {
          "name": "stdout",
          "output_type": "stream",
          "text": [
            "MAE Test: 3570.3526513801135\n",
            "MSE Test: 21247407.358480852\n",
            "MAE Train: 3560.893221261742\n",
            "MSE Train: 21065297.83143341\n"
          ]
        }
      ],
      "source": [
        "#Calculation of mean squared error (MSE )and mean absolute error (MAE) for test and training sets\n",
        "mae_test_lin = mean_absolute_error(y_test, test_pred_lin)\n",
        "mse_test_lin = mean_squared_error(y_test, test_pred_lin)\n",
        "mae_train_lin = mean_absolute_error(y_train, train_pred_lin)\n",
        "mse_train_lin = mean_squared_error(y_train, train_pred_lin)\n",
        "\n",
        "print(\"MAE Test: \" + str(mae_test_lin))\n",
        "print(\"MSE Test: \" + str(mse_test_lin))\n",
        "print(\"MAE Train: \" + str(mae_train_lin))\n",
        "print(\"MSE Train: \" + str(mse_train_lin))"
      ]
    },
    {
      "cell_type": "code",
      "execution_count": null,
      "metadata": {
        "colab": {
          "base_uri": "https://localhost:8080/"
        },
        "id": "N5ljz2LIDKfk",
        "outputId": "cfaa4030-691c-4701-fdde-9c9edcd51af7"
      },
      "outputs": [
        {
          "name": "stdout",
          "output_type": "stream",
          "text": [
            "R-squared Test: 0.5811387412035911\n",
            "R-squared Train: 0.5816532314998117\n"
          ]
        }
      ],
      "source": [
        "#Calculation of R^2 for test and training sets\n",
        "r2_test_lin = r2_score(y_test, test_pred_lin)\n",
        "r2_train_lin = r2_score(y_train, train_pred_lin)\n",
        "\n",
        "print(\"R-squared Test: \" + str(r2_test_lin))\n",
        "print(\"R-squared Train: \" + str(r2_train_lin))"
      ]
    },
    {
      "cell_type": "markdown",
      "metadata": {
        "id": "yH4gh1xiicZ0"
      },
      "source": [
        "The $R^{2}$, MSE, and MAE are consistent across the test and training sets. Although the $R^{2}$ of ~0.66 is a good start, this in addition to the large MSE suggests that the current model is underfitting. This might be because the matrix generated by one hot encoding a column with high cardinality is sparse, leading to the dilution of signals. We should try to increase the model complexity or implement a different encoding method."
      ]
    },
    {
      "cell_type": "markdown",
      "metadata": {
        "id": "DoNHfZvGPSe-"
      },
      "source": [
        "### 5.1.3 Label Encoded Data"
      ]
    },
    {
      "cell_type": "markdown",
      "metadata": {
        "id": "NcT3gmhnk3UW"
      },
      "source": [
        "Now, we try fitting a linear regression model on the label encoded data."
      ]
    },
    {
      "cell_type": "code",
      "execution_count": null,
      "metadata": {
        "id": "IJYha80nPSOA"
      },
      "outputs": [],
      "source": [
        "#Fit a linear regression model on the label encoded data\n",
        "lin_model = LinearRegression()\n",
        "lin_model.fit(X_train_le, y_train_le)\n",
        "#Predict on label encoded data using linear regression model\n",
        "train_pred_lin = lin_model.predict(X_train_le)\n",
        "test_pred_lin = lin_model.predict(X_test_le)"
      ]
    },
    {
      "cell_type": "markdown",
      "metadata": {
        "id": "_SMm_5-SfZBt"
      },
      "source": [
        "### 5.1.4 Label Encoded Linear Regression Feature Importances"
      ]
    },
    {
      "cell_type": "code",
      "execution_count": null,
      "metadata": {
        "colab": {
          "base_uri": "https://localhost:8080/"
        },
        "id": "mtMnu4eefW1W",
        "outputId": "6547b365-500e-4d5f-ace7-968b5e5ca96c"
      },
      "outputs": [
        {
          "name": "stdout",
          "output_type": "stream",
          "text": [
            "        Feature   Coefficient\n",
            "0     Intercept -1.227425e+06\n",
            "1          year  6.193764e+02\n",
            "2          make -4.360835e+01\n",
            "3  transmission -1.273280e+03\n",
            "4         state -7.149719e+00\n",
            "5     condition  8.412735e+01\n",
            "6      odometer -6.520454e-02\n",
            "7         color -2.297210e+01\n",
            "8      interior -2.194298e+01\n",
            "9     body_type -4.722575e+02\n"
          ]
        }
      ],
      "source": [
        "#Extract coefficients from the model\n",
        "lin_coefficients = lin_model.coef_\n",
        "coef_df = pd.DataFrame({'Feature': X.columns, 'Coefficient': lin_coefficients})\n",
        "\n",
        "# Optionally, add the intercept\n",
        "intercept_row = pd.DataFrame({'Feature': ['Intercept'], 'Coefficient': [lin_model.intercept_]})\n",
        "coef_df = pd.concat([intercept_row, coef_df], ignore_index=True)\n",
        "coef_df.sort_values(by=['Coefficient'], ascending=True)\n",
        "# Display the DataFrame\n",
        "print(coef_df)"
      ]
    },
    {
      "cell_type": "markdown",
      "metadata": {
        "id": "lAAzgE251g9r"
      },
      "source": [
        "**Feature Importance for Linear Regression**"
      ]
    },
    {
      "cell_type": "markdown",
      "metadata": {
        "id": "X1cdaikkPkqz"
      },
      "source": [
        "### 5.2.1 Evaluating the Label Encoded Linear Regression"
      ]
    },
    {
      "cell_type": "code",
      "execution_count": null,
      "metadata": {
        "colab": {
          "base_uri": "https://localhost:8080/"
        },
        "id": "R0s0YgDwPuVL",
        "outputId": "e3bd0cb3-c2e1-4d1c-af1d-82ead5d983d7"
      },
      "outputs": [
        {
          "name": "stdout",
          "output_type": "stream",
          "text": [
            "MAE Test: 4165.501573267299\n",
            "MSE Test: 27983177.532175697\n",
            "MAE Train: 4148.4882455858215\n",
            "MSE Train: 27708053.36218573\n"
          ]
        }
      ],
      "source": [
        "#Calculation of mean squared error (MSE) and mean absolute error (MAE) for test and training set\n",
        "mae_test_lin = mean_absolute_error(y_test_le, test_pred_lin)\n",
        "mse_test_lin = mean_squared_error(y_test_le, test_pred_lin)\n",
        "mae_train_lin = mean_absolute_error(y_train_le, train_pred_lin)\n",
        "mse_train_lin = mean_squared_error(y_train_le, train_pred_lin)\n",
        "\n",
        "print(\"MAE Test: \" + str(mae_test_lin))\n",
        "print(\"MSE Test: \" + str(mse_test_lin))\n",
        "print(\"MAE Train: \" + str(mae_train_lin))\n",
        "print(\"MSE Train: \" + str(mse_train_lin))"
      ]
    },
    {
      "cell_type": "code",
      "execution_count": null,
      "metadata": {
        "colab": {
          "base_uri": "https://localhost:8080/"
        },
        "id": "RDvCwGnAPzle",
        "outputId": "5b423801-3bae-428f-f77c-7cf973964b48"
      },
      "outputs": [
        {
          "name": "stdout",
          "output_type": "stream",
          "text": [
            "R-squared Test: 0.4483529793308142\n",
            "R-squared Train: 0.44973127471265306\n"
          ]
        }
      ],
      "source": [
        "#Calculation of R^2 for test and training sets\n",
        "r2_test_lin = r2_score(y_test_le, test_pred_lin)\n",
        "r2_train_lin = r2_score(y_train_le, train_pred_lin)\n",
        "\n",
        "print(\"R-squared Test: \" + str(r2_test_lin))\n",
        "print(\"R-squared Train: \" + str(r2_train_lin))"
      ]
    },
    {
      "cell_type": "markdown",
      "metadata": {
        "id": "aEGS-0XcmG4v"
      },
      "source": [
        "Again, the $R^{2}$, MSE, and MAE are consistent across the test and training sets. The $R^{2}$ of ~0.45 is worse than that for the one-hot encoded data, suggesting that the effects of artificial ordinality are more harmful than the effects of signal dilution for a linear regression model. This is also influenced by the magnitude of cardinalities in categorical columns in this dataset."
      ]
    },
    {
      "cell_type": "markdown",
      "metadata": {
        "id": "4Uq7aMQqaRPs"
      },
      "source": [
        "## 5.2 Random Forest Model"
      ]
    },
    {
      "cell_type": "markdown",
      "metadata": {
        "id": "FnByg1vxnr5e"
      },
      "source": [
        "The next model we try is a random forest model, which is more complex than a linear regression. Because Random Forest models do not assume any form of relationship between the predictors and the target variable, they should be robust to the artificial ordinality imposed by the label encoding. We expect the model performance to improve for both of these reasons."
      ]
    },
    {
      "cell_type": "markdown",
      "metadata": {
        "id": "vj4_gin4gBwq"
      },
      "source": [
        "### 5.2.1 Hyperparameter Tuning with GridSearchCV"
      ]
    },
    {
      "cell_type": "markdown",
      "metadata": {
        "id": "IC646hS_eAIS"
      },
      "source": [
        "We conduct hyperparameter tuning using GridSearchCV. With our selection of each of the grid parameters to test, we must carefully consider the balance between computational cost, sufficient complexity, and potential for overfitting. Our grid contains the conventional values for each parameter."
      ]
    },
    {
      "cell_type": "code",
      "execution_count": null,
      "metadata": {
        "colab": {
          "base_uri": "https://localhost:8080/",
          "height": 89
        },
        "id": "s1EK0ASNjiN3",
        "outputId": "c0ea65d6-bfda-42f0-e25f-6bc2ef8f8576"
      },
      "outputs": [
        {
          "data": {
            "application/vnd.google.colaboratory.intrinsic+json": {
              "type": "string"
            },
            "text/plain": [
              "\"\\nThis is the code that was run to obtain those optimal parameters\\n#Initial hyperparameter grid based on conventional values\\nrf_param_grid = {\\n    'n_estimators': [50, 100, 200],\\n    'max_depth': [10, 30, 40],\\n    'min_samples_split': [8, 12],\\n    'min_samples_leaf': [4, 5]\\n}\\n\\n#Create random forest model\\nrf_model = RandomForestRegressor(random_state=42)\\n#Initialize grid search\\nrf_grid_search = GridSearchCV(rf_model, rf_param_grid, cv=5, scoring='neg_mean_squared_error', verbose=2, n_jobs=-1)\\nrf_grid_search.fit(X_train_le, y_train_le)\\n\""
            ]
          },
          "execution_count": 79,
          "metadata": {},
          "output_type": "execute_result"
        }
      ],
      "source": [
        "#Extract the optimal combination of parameters from the grid search\n",
        "rf_optimal_params = {\n",
        "    'n_estimators': 50,\n",
        "    'max_depth': 10,\n",
        "    'min_samples_leaf': 5,\n",
        "    'min_samples_split': 12\n",
        "}\n",
        "\n",
        "'''\n",
        "This is the code that was run to obtain those optimal parameters\n",
        "#Initial hyperparameter grid based on conventional values\n",
        "rf_param_grid = {\n",
        "    'n_estimators': [50, 100, 200],\n",
        "    'max_depth': [10, 30, 40],\n",
        "    'min_samples_split': [8, 12],\n",
        "    'min_samples_leaf': [4, 5]\n",
        "}\n",
        "\n",
        "#Create random forest model\n",
        "rf_model = RandomForestRegressor(random_state=42)\n",
        "#Initialize grid search\n",
        "rf_grid_search = GridSearchCV(rf_model, rf_param_grid, cv=5, scoring='neg_mean_squared_error', verbose=2, n_jobs=-1)\n",
        "rf_grid_search.fit(X_train_le, y_train_le)\n",
        "'''"
      ]
    },
    {
      "cell_type": "code",
      "execution_count": null,
      "metadata": {
        "colab": {
          "base_uri": "https://localhost:8080/",
          "height": 92
        },
        "id": "v5jQQBGpjnoK",
        "outputId": "6ff8d997-e8a3-4029-b76e-feaf1040a0ef"
      },
      "outputs": [
        {
          "data": {
            "text/html": [
              "<style>#sk-container-id-1 {color: black;background-color: white;}#sk-container-id-1 pre{padding: 0;}#sk-container-id-1 div.sk-toggleable {background-color: white;}#sk-container-id-1 label.sk-toggleable__label {cursor: pointer;display: block;width: 100%;margin-bottom: 0;padding: 0.3em;box-sizing: border-box;text-align: center;}#sk-container-id-1 label.sk-toggleable__label-arrow:before {content: \"▸\";float: left;margin-right: 0.25em;color: #696969;}#sk-container-id-1 label.sk-toggleable__label-arrow:hover:before {color: black;}#sk-container-id-1 div.sk-estimator:hover label.sk-toggleable__label-arrow:before {color: black;}#sk-container-id-1 div.sk-toggleable__content {max-height: 0;max-width: 0;overflow: hidden;text-align: left;background-color: #f0f8ff;}#sk-container-id-1 div.sk-toggleable__content pre {margin: 0.2em;color: black;border-radius: 0.25em;background-color: #f0f8ff;}#sk-container-id-1 input.sk-toggleable__control:checked~div.sk-toggleable__content {max-height: 200px;max-width: 100%;overflow: auto;}#sk-container-id-1 input.sk-toggleable__control:checked~label.sk-toggleable__label-arrow:before {content: \"▾\";}#sk-container-id-1 div.sk-estimator input.sk-toggleable__control:checked~label.sk-toggleable__label {background-color: #d4ebff;}#sk-container-id-1 div.sk-label input.sk-toggleable__control:checked~label.sk-toggleable__label {background-color: #d4ebff;}#sk-container-id-1 input.sk-hidden--visually {border: 0;clip: rect(1px 1px 1px 1px);clip: rect(1px, 1px, 1px, 1px);height: 1px;margin: -1px;overflow: hidden;padding: 0;position: absolute;width: 1px;}#sk-container-id-1 div.sk-estimator {font-family: monospace;background-color: #f0f8ff;border: 1px dotted black;border-radius: 0.25em;box-sizing: border-box;margin-bottom: 0.5em;}#sk-container-id-1 div.sk-estimator:hover {background-color: #d4ebff;}#sk-container-id-1 div.sk-parallel-item::after {content: \"\";width: 100%;border-bottom: 1px solid gray;flex-grow: 1;}#sk-container-id-1 div.sk-label:hover label.sk-toggleable__label {background-color: #d4ebff;}#sk-container-id-1 div.sk-serial::before {content: \"\";position: absolute;border-left: 1px solid gray;box-sizing: border-box;top: 0;bottom: 0;left: 50%;z-index: 0;}#sk-container-id-1 div.sk-serial {display: flex;flex-direction: column;align-items: center;background-color: white;padding-right: 0.2em;padding-left: 0.2em;position: relative;}#sk-container-id-1 div.sk-item {position: relative;z-index: 1;}#sk-container-id-1 div.sk-parallel {display: flex;align-items: stretch;justify-content: center;background-color: white;position: relative;}#sk-container-id-1 div.sk-item::before, #sk-container-id-1 div.sk-parallel-item::before {content: \"\";position: absolute;border-left: 1px solid gray;box-sizing: border-box;top: 0;bottom: 0;left: 50%;z-index: -1;}#sk-container-id-1 div.sk-parallel-item {display: flex;flex-direction: column;z-index: 1;position: relative;background-color: white;}#sk-container-id-1 div.sk-parallel-item:first-child::after {align-self: flex-end;width: 50%;}#sk-container-id-1 div.sk-parallel-item:last-child::after {align-self: flex-start;width: 50%;}#sk-container-id-1 div.sk-parallel-item:only-child::after {width: 0;}#sk-container-id-1 div.sk-dashed-wrapped {border: 1px dashed gray;margin: 0 0.4em 0.5em 0.4em;box-sizing: border-box;padding-bottom: 0.4em;background-color: white;}#sk-container-id-1 div.sk-label label {font-family: monospace;font-weight: bold;display: inline-block;line-height: 1.2em;}#sk-container-id-1 div.sk-label-container {text-align: center;}#sk-container-id-1 div.sk-container {/* jupyter's `normalize.less` sets `[hidden] { display: none; }` but bootstrap.min.css set `[hidden] { display: none !important; }` so we also need the `!important` here to be able to override the default hidden behavior on the sphinx rendered scikit-learn.org. See: https://github.com/scikit-learn/scikit-learn/issues/21755 */display: inline-block !important;position: relative;}#sk-container-id-1 div.sk-text-repr-fallback {display: none;}</style><div id=\"sk-container-id-1\" class=\"sk-top-container\"><div class=\"sk-text-repr-fallback\"><pre>RandomForestRegressor(max_depth=10, min_samples_leaf=5, min_samples_split=12,\n",
              "                      n_estimators=50)</pre><b>In a Jupyter environment, please rerun this cell to show the HTML representation or trust the notebook. <br />On GitHub, the HTML representation is unable to render, please try loading this page with nbviewer.org.</b></div><div class=\"sk-container\" hidden><div class=\"sk-item\"><div class=\"sk-estimator sk-toggleable\"><input class=\"sk-toggleable__control sk-hidden--visually\" id=\"sk-estimator-id-1\" type=\"checkbox\" checked><label for=\"sk-estimator-id-1\" class=\"sk-toggleable__label sk-toggleable__label-arrow\">RandomForestRegressor</label><div class=\"sk-toggleable__content\"><pre>RandomForestRegressor(max_depth=10, min_samples_leaf=5, min_samples_split=12,\n",
              "                      n_estimators=50)</pre></div></div></div></div></div>"
            ],
            "text/plain": [
              "RandomForestRegressor(max_depth=10, min_samples_leaf=5, min_samples_split=12,\n",
              "                      n_estimators=50)"
            ]
          },
          "execution_count": 80,
          "metadata": {},
          "output_type": "execute_result"
        }
      ],
      "source": [
        "#Fit a Random Forest model on the training data using the optimal parameters from the previous step\n",
        "optimal_rf_model = RandomForestRegressor(**rf_optimal_params)\n",
        "optimal_rf_model.fit(X_train_le, y_train_le)"
      ]
    },
    {
      "cell_type": "markdown",
      "metadata": {
        "id": "UBxZxtdZi9QV"
      },
      "source": [
        "### 5.2.2 Random Forest Feature Importance"
      ]
    },
    {
      "cell_type": "markdown",
      "metadata": {
        "id": "5qGdw80L3PQl"
      },
      "source": [
        "Now that we optimized our model, we want to better understand feature importances. This step is important to establish how the results of our model should be understood in practical applications."
      ]
    },
    {
      "cell_type": "code",
      "execution_count": null,
      "metadata": {
        "id": "E9dHxTtF-KLJ"
      },
      "outputs": [],
      "source": [
        "#Extract feature importances from the model\n",
        "rf_feature_importances = optimal_rf_model.feature_importances_\n",
        "\n",
        "# Create a DataFrame to display feature importances\n",
        "rf_importance_df = pd.DataFrame({'Feature': X.columns, 'Importance': rf_feature_importances})\n",
        "rf_importance_df = rf_importance_df.sort_values(by='Importance', ascending=False)"
      ]
    },
    {
      "cell_type": "code",
      "execution_count": null,
      "metadata": {
        "colab": {
          "base_uri": "https://localhost:8080/",
          "height": 617
        },
        "id": "XuzsGE7g-Kbh",
        "outputId": "606d1be5-7942-4600-ca91-4f3c8c252662"
      },
      "outputs": [
        {
          "data": {
            "text/html": [
              "<html>\n",
              "<head><meta charset=\"utf-8\" /></head>\n",
              "<body>\n",
              "    <div>            <script src=\"https://cdnjs.cloudflare.com/ajax/libs/mathjax/2.7.5/MathJax.js?config=TeX-AMS-MML_SVG\"></script><script type=\"text/javascript\">if (window.MathJax && window.MathJax.Hub && window.MathJax.Hub.Config) {window.MathJax.Hub.Config({SVG: {font: \"STIX-Web\"}});}</script>                <script type=\"text/javascript\">window.PlotlyConfig = {MathJaxConfig: 'local'};</script>\n",
              "        <script charset=\"utf-8\" src=\"https://cdn.plot.ly/plotly-2.24.1.min.js\"></script>                <div id=\"19f957aa-3751-44d0-84fe-90c54a8b397f\" class=\"plotly-graph-div\" style=\"height:600px; width:1000px;\"></div>            <script type=\"text/javascript\">                                    window.PLOTLYENV=window.PLOTLYENV || {};                                    if (document.getElementById(\"19f957aa-3751-44d0-84fe-90c54a8b397f\")) {                    Plotly.newPlot(                        \"19f957aa-3751-44d0-84fe-90c54a8b397f\",                        [{\"marker\":{\"color\":\"skyblue\"},\"x\":[\"odometer\",\"body_type\",\"make\",\"year\",\"condition\",\"interior\",\"color\",\"state\",\"transmission\"],\"y\":[0.49534348906108083,0.20787517837755298,0.1436806340137718,0.11372771494674186,0.03222133575968273,0.0038634513165505886,0.001735082686327691,0.0011246737469490717,0.0004284400913426445],\"type\":\"bar\"}],                        {\"template\":{\"data\":{\"histogram2dcontour\":[{\"type\":\"histogram2dcontour\",\"colorbar\":{\"outlinewidth\":0,\"ticks\":\"\"},\"colorscale\":[[0.0,\"#0d0887\"],[0.1111111111111111,\"#46039f\"],[0.2222222222222222,\"#7201a8\"],[0.3333333333333333,\"#9c179e\"],[0.4444444444444444,\"#bd3786\"],[0.5555555555555556,\"#d8576b\"],[0.6666666666666666,\"#ed7953\"],[0.7777777777777778,\"#fb9f3a\"],[0.8888888888888888,\"#fdca26\"],[1.0,\"#f0f921\"]]}],\"choropleth\":[{\"type\":\"choropleth\",\"colorbar\":{\"outlinewidth\":0,\"ticks\":\"\"}}],\"histogram2d\":[{\"type\":\"histogram2d\",\"colorbar\":{\"outlinewidth\":0,\"ticks\":\"\"},\"colorscale\":[[0.0,\"#0d0887\"],[0.1111111111111111,\"#46039f\"],[0.2222222222222222,\"#7201a8\"],[0.3333333333333333,\"#9c179e\"],[0.4444444444444444,\"#bd3786\"],[0.5555555555555556,\"#d8576b\"],[0.6666666666666666,\"#ed7953\"],[0.7777777777777778,\"#fb9f3a\"],[0.8888888888888888,\"#fdca26\"],[1.0,\"#f0f921\"]]}],\"heatmap\":[{\"type\":\"heatmap\",\"colorbar\":{\"outlinewidth\":0,\"ticks\":\"\"},\"colorscale\":[[0.0,\"#0d0887\"],[0.1111111111111111,\"#46039f\"],[0.2222222222222222,\"#7201a8\"],[0.3333333333333333,\"#9c179e\"],[0.4444444444444444,\"#bd3786\"],[0.5555555555555556,\"#d8576b\"],[0.6666666666666666,\"#ed7953\"],[0.7777777777777778,\"#fb9f3a\"],[0.8888888888888888,\"#fdca26\"],[1.0,\"#f0f921\"]]}],\"heatmapgl\":[{\"type\":\"heatmapgl\",\"colorbar\":{\"outlinewidth\":0,\"ticks\":\"\"},\"colorscale\":[[0.0,\"#0d0887\"],[0.1111111111111111,\"#46039f\"],[0.2222222222222222,\"#7201a8\"],[0.3333333333333333,\"#9c179e\"],[0.4444444444444444,\"#bd3786\"],[0.5555555555555556,\"#d8576b\"],[0.6666666666666666,\"#ed7953\"],[0.7777777777777778,\"#fb9f3a\"],[0.8888888888888888,\"#fdca26\"],[1.0,\"#f0f921\"]]}],\"contourcarpet\":[{\"type\":\"contourcarpet\",\"colorbar\":{\"outlinewidth\":0,\"ticks\":\"\"}}],\"contour\":[{\"type\":\"contour\",\"colorbar\":{\"outlinewidth\":0,\"ticks\":\"\"},\"colorscale\":[[0.0,\"#0d0887\"],[0.1111111111111111,\"#46039f\"],[0.2222222222222222,\"#7201a8\"],[0.3333333333333333,\"#9c179e\"],[0.4444444444444444,\"#bd3786\"],[0.5555555555555556,\"#d8576b\"],[0.6666666666666666,\"#ed7953\"],[0.7777777777777778,\"#fb9f3a\"],[0.8888888888888888,\"#fdca26\"],[1.0,\"#f0f921\"]]}],\"surface\":[{\"type\":\"surface\",\"colorbar\":{\"outlinewidth\":0,\"ticks\":\"\"},\"colorscale\":[[0.0,\"#0d0887\"],[0.1111111111111111,\"#46039f\"],[0.2222222222222222,\"#7201a8\"],[0.3333333333333333,\"#9c179e\"],[0.4444444444444444,\"#bd3786\"],[0.5555555555555556,\"#d8576b\"],[0.6666666666666666,\"#ed7953\"],[0.7777777777777778,\"#fb9f3a\"],[0.8888888888888888,\"#fdca26\"],[1.0,\"#f0f921\"]]}],\"mesh3d\":[{\"type\":\"mesh3d\",\"colorbar\":{\"outlinewidth\":0,\"ticks\":\"\"}}],\"scatter\":[{\"fillpattern\":{\"fillmode\":\"overlay\",\"size\":10,\"solidity\":0.2},\"type\":\"scatter\"}],\"parcoords\":[{\"type\":\"parcoords\",\"line\":{\"colorbar\":{\"outlinewidth\":0,\"ticks\":\"\"}}}],\"scatterpolargl\":[{\"type\":\"scatterpolargl\",\"marker\":{\"colorbar\":{\"outlinewidth\":0,\"ticks\":\"\"}}}],\"bar\":[{\"error_x\":{\"color\":\"#2a3f5f\"},\"error_y\":{\"color\":\"#2a3f5f\"},\"marker\":{\"line\":{\"color\":\"#E5ECF6\",\"width\":0.5},\"pattern\":{\"fillmode\":\"overlay\",\"size\":10,\"solidity\":0.2}},\"type\":\"bar\"}],\"scattergeo\":[{\"type\":\"scattergeo\",\"marker\":{\"colorbar\":{\"outlinewidth\":0,\"ticks\":\"\"}}}],\"scatterpolar\":[{\"type\":\"scatterpolar\",\"marker\":{\"colorbar\":{\"outlinewidth\":0,\"ticks\":\"\"}}}],\"histogram\":[{\"marker\":{\"pattern\":{\"fillmode\":\"overlay\",\"size\":10,\"solidity\":0.2}},\"type\":\"histogram\"}],\"scattergl\":[{\"type\":\"scattergl\",\"marker\":{\"colorbar\":{\"outlinewidth\":0,\"ticks\":\"\"}}}],\"scatter3d\":[{\"type\":\"scatter3d\",\"line\":{\"colorbar\":{\"outlinewidth\":0,\"ticks\":\"\"}},\"marker\":{\"colorbar\":{\"outlinewidth\":0,\"ticks\":\"\"}}}],\"scattermapbox\":[{\"type\":\"scattermapbox\",\"marker\":{\"colorbar\":{\"outlinewidth\":0,\"ticks\":\"\"}}}],\"scatterternary\":[{\"type\":\"scatterternary\",\"marker\":{\"colorbar\":{\"outlinewidth\":0,\"ticks\":\"\"}}}],\"scattercarpet\":[{\"type\":\"scattercarpet\",\"marker\":{\"colorbar\":{\"outlinewidth\":0,\"ticks\":\"\"}}}],\"carpet\":[{\"aaxis\":{\"endlinecolor\":\"#2a3f5f\",\"gridcolor\":\"white\",\"linecolor\":\"white\",\"minorgridcolor\":\"white\",\"startlinecolor\":\"#2a3f5f\"},\"baxis\":{\"endlinecolor\":\"#2a3f5f\",\"gridcolor\":\"white\",\"linecolor\":\"white\",\"minorgridcolor\":\"white\",\"startlinecolor\":\"#2a3f5f\"},\"type\":\"carpet\"}],\"table\":[{\"cells\":{\"fill\":{\"color\":\"#EBF0F8\"},\"line\":{\"color\":\"white\"}},\"header\":{\"fill\":{\"color\":\"#C8D4E3\"},\"line\":{\"color\":\"white\"}},\"type\":\"table\"}],\"barpolar\":[{\"marker\":{\"line\":{\"color\":\"#E5ECF6\",\"width\":0.5},\"pattern\":{\"fillmode\":\"overlay\",\"size\":10,\"solidity\":0.2}},\"type\":\"barpolar\"}],\"pie\":[{\"automargin\":true,\"type\":\"pie\"}]},\"layout\":{\"autotypenumbers\":\"strict\",\"colorway\":[\"#636efa\",\"#EF553B\",\"#00cc96\",\"#ab63fa\",\"#FFA15A\",\"#19d3f3\",\"#FF6692\",\"#B6E880\",\"#FF97FF\",\"#FECB52\"],\"font\":{\"color\":\"#2a3f5f\"},\"hovermode\":\"closest\",\"hoverlabel\":{\"align\":\"left\"},\"paper_bgcolor\":\"white\",\"plot_bgcolor\":\"#E5ECF6\",\"polar\":{\"bgcolor\":\"#E5ECF6\",\"angularaxis\":{\"gridcolor\":\"white\",\"linecolor\":\"white\",\"ticks\":\"\"},\"radialaxis\":{\"gridcolor\":\"white\",\"linecolor\":\"white\",\"ticks\":\"\"}},\"ternary\":{\"bgcolor\":\"#E5ECF6\",\"aaxis\":{\"gridcolor\":\"white\",\"linecolor\":\"white\",\"ticks\":\"\"},\"baxis\":{\"gridcolor\":\"white\",\"linecolor\":\"white\",\"ticks\":\"\"},\"caxis\":{\"gridcolor\":\"white\",\"linecolor\":\"white\",\"ticks\":\"\"}},\"coloraxis\":{\"colorbar\":{\"outlinewidth\":0,\"ticks\":\"\"}},\"colorscale\":{\"sequential\":[[0.0,\"#0d0887\"],[0.1111111111111111,\"#46039f\"],[0.2222222222222222,\"#7201a8\"],[0.3333333333333333,\"#9c179e\"],[0.4444444444444444,\"#bd3786\"],[0.5555555555555556,\"#d8576b\"],[0.6666666666666666,\"#ed7953\"],[0.7777777777777778,\"#fb9f3a\"],[0.8888888888888888,\"#fdca26\"],[1.0,\"#f0f921\"]],\"sequentialminus\":[[0.0,\"#0d0887\"],[0.1111111111111111,\"#46039f\"],[0.2222222222222222,\"#7201a8\"],[0.3333333333333333,\"#9c179e\"],[0.4444444444444444,\"#bd3786\"],[0.5555555555555556,\"#d8576b\"],[0.6666666666666666,\"#ed7953\"],[0.7777777777777778,\"#fb9f3a\"],[0.8888888888888888,\"#fdca26\"],[1.0,\"#f0f921\"]],\"diverging\":[[0,\"#8e0152\"],[0.1,\"#c51b7d\"],[0.2,\"#de77ae\"],[0.3,\"#f1b6da\"],[0.4,\"#fde0ef\"],[0.5,\"#f7f7f7\"],[0.6,\"#e6f5d0\"],[0.7,\"#b8e186\"],[0.8,\"#7fbc41\"],[0.9,\"#4d9221\"],[1,\"#276419\"]]},\"xaxis\":{\"gridcolor\":\"white\",\"linecolor\":\"white\",\"ticks\":\"\",\"title\":{\"standoff\":15},\"zerolinecolor\":\"white\",\"automargin\":true,\"zerolinewidth\":2},\"yaxis\":{\"gridcolor\":\"white\",\"linecolor\":\"white\",\"ticks\":\"\",\"title\":{\"standoff\":15},\"zerolinecolor\":\"white\",\"automargin\":true,\"zerolinewidth\":2},\"scene\":{\"xaxis\":{\"backgroundcolor\":\"#E5ECF6\",\"gridcolor\":\"white\",\"linecolor\":\"white\",\"showbackground\":true,\"ticks\":\"\",\"zerolinecolor\":\"white\",\"gridwidth\":2},\"yaxis\":{\"backgroundcolor\":\"#E5ECF6\",\"gridcolor\":\"white\",\"linecolor\":\"white\",\"showbackground\":true,\"ticks\":\"\",\"zerolinecolor\":\"white\",\"gridwidth\":2},\"zaxis\":{\"backgroundcolor\":\"#E5ECF6\",\"gridcolor\":\"white\",\"linecolor\":\"white\",\"showbackground\":true,\"ticks\":\"\",\"zerolinecolor\":\"white\",\"gridwidth\":2}},\"shapedefaults\":{\"line\":{\"color\":\"#2a3f5f\"}},\"annotationdefaults\":{\"arrowcolor\":\"#2a3f5f\",\"arrowhead\":0,\"arrowwidth\":1},\"geo\":{\"bgcolor\":\"white\",\"landcolor\":\"#E5ECF6\",\"subunitcolor\":\"white\",\"showland\":true,\"showlakes\":true,\"lakecolor\":\"white\"},\"title\":{\"x\":0.05},\"mapbox\":{\"style\":\"light\"}}},\"xaxis\":{\"title\":{\"text\":\"Feature\"},\"tickangle\":-90},\"title\":{\"text\":\"Feature Importances\"},\"yaxis\":{\"title\":{\"text\":\"Importance\"}},\"width\":1000,\"height\":600},                        {\"responsive\": true}                    ).then(function(){\n",
              "                            \n",
              "var gd = document.getElementById('19f957aa-3751-44d0-84fe-90c54a8b397f');\n",
              "var x = new MutationObserver(function (mutations, observer) {{\n",
              "        var display = window.getComputedStyle(gd).display;\n",
              "        if (!display || display === 'none') {{\n",
              "            console.log([gd, 'removed!']);\n",
              "            Plotly.purge(gd);\n",
              "            observer.disconnect();\n",
              "        }}\n",
              "}});\n",
              "\n",
              "// Listen for the removal of the full notebook cells\n",
              "var notebookContainer = gd.closest('#notebook-container');\n",
              "if (notebookContainer) {{\n",
              "    x.observe(notebookContainer, {childList: true});\n",
              "}}\n",
              "\n",
              "// Listen for the clearing of the current output cell\n",
              "var outputEl = gd.closest('.output');\n",
              "if (outputEl) {{\n",
              "    x.observe(outputEl, {childList: true});\n",
              "}}\n",
              "\n",
              "                        })                };                            </script>        </div>\n",
              "</body>\n",
              "</html>"
            ]
          },
          "metadata": {},
          "output_type": "display_data"
        }
      ],
      "source": [
        "#Plotting a bar graph to visually represent feature importances\n",
        "fig = go.Figure(go.Bar(\n",
        "    x=rf_importance_df['Feature'],\n",
        "    y=rf_importance_df['Importance'],\n",
        "    marker_color='skyblue'\n",
        "))\n",
        "\n",
        "# Update layout with title and axes titles\n",
        "fig.update_layout(\n",
        "    title='Feature Importances',\n",
        "    xaxis_title='Feature',\n",
        "    yaxis_title='Importance',\n",
        "    xaxis=dict(tickangle=-90),\n",
        "    width=1000,\n",
        "    height=600,\n",
        ")\n",
        "\n",
        "# Show the plot\n",
        "fig.show()"
      ]
    },
    {
      "cell_type": "markdown",
      "metadata": {
        "id": "7HWmImpEgIFz"
      },
      "source": [
        "### 5.2.3 Evaluating Random Forest Models"
      ]
    },
    {
      "cell_type": "markdown",
      "metadata": {
        "id": "FV7bSUFB5NcZ"
      },
      "source": [
        "We calculate the same metrics as we did for the linear regression to compare the model performances."
      ]
    },
    {
      "cell_type": "code",
      "execution_count": null,
      "metadata": {
        "colab": {
          "base_uri": "https://localhost:8080/"
        },
        "id": "TEUyLiG7nLWo",
        "outputId": "65244bdb-f60c-4df2-9d92-0f74b45b5494"
      },
      "outputs": [
        {
          "name": "stdout",
          "output_type": "stream",
          "text": [
            "MAE Test: 2691.9290359640972\n",
            "MSE Test: 13448270.9013494\n",
            "MAE Train: 2647.8455304582026\n",
            "MSE Train: 12977550.592769738\n"
          ]
        }
      ],
      "source": [
        "#Use the random forest model to make predictions on the test and training data\n",
        "test_pred_rf = optimal_rf_model.predict(X_test_le)\n",
        "train_pred_rf = optimal_rf_model.predict(X_train_le)\n",
        "\n",
        "#Calculate the MSE and MAE for the random forest predictions\n",
        "mae_test_rf = mean_absolute_error(y_test_le, test_pred_rf)\n",
        "mse_test_rf = mean_squared_error(y_test_le, test_pred_rf)\n",
        "mae_train_rf = mean_absolute_error(y_train_le, train_pred_rf)\n",
        "mse_train_rf = mean_squared_error(y_train_le, train_pred_rf)\n",
        "\n",
        "print(\"MAE Test: \" + str(mae_test_rf))\n",
        "print(\"MSE Test: \" + str(mse_test_rf))\n",
        "print(\"MAE Train: \" + str(mae_train_rf))\n",
        "print(\"MSE Train: \" + str(mse_train_rf))"
      ]
    },
    {
      "cell_type": "code",
      "execution_count": null,
      "metadata": {
        "colab": {
          "base_uri": "https://localhost:8080/"
        },
        "id": "eZuywy3AvsvM",
        "outputId": "99f3c6a1-fade-4d7b-ca93-2f7be66015ff"
      },
      "outputs": [
        {
          "name": "stdout",
          "output_type": "stream",
          "text": [
            "R-squared Test: 0.7348871990197927\n",
            "R-squared Train: 0.7422720344626861\n"
          ]
        }
      ],
      "source": [
        "#Calculate the R^2 for the random forest model\n",
        "r2_test_rf = r2_score(y_test_le, test_pred_rf)\n",
        "r2_train_rf = r2_score(y_train_le, train_pred_rf)\n",
        "\n",
        "print(\"R-squared Test: \" + str(r2_test_rf))\n",
        "print(\"R-squared Train: \" + str(r2_train_rf))"
      ]
    },
    {
      "cell_type": "markdown",
      "metadata": {
        "id": "1wtFH103-R11"
      },
      "source": [
        "## 5.3 Gradient Boosting Regression"
      ]
    },
    {
      "cell_type": "markdown",
      "metadata": {
        "id": "2j0u8Fvy9T_H"
      },
      "source": [
        "### 5.3.1 Hyperparameter Tuning with GridSearchCV"
      ]
    },
    {
      "cell_type": "code",
      "execution_count": null,
      "metadata": {
        "colab": {
          "base_uri": "https://localhost:8080/",
          "height": 89
        },
        "id": "K-0SqfpEFz_-",
        "outputId": "534954bf-0bd0-4c47-eccc-2e28e2eae232"
      },
      "outputs": [
        {
          "data": {
            "application/vnd.google.colaboratory.intrinsic+json": {
              "type": "string"
            },
            "text/plain": [
              "\"\\nThis is the code that was run to obtain those optimal parameters\\n#Initial hyperparameter grid based on conventional values\\ngbr_param_grid = {\\n    'n_estimators': [50, 100, 200],\\n    'max_depth': [3, 5, 7],\\n    'learning_rate': [0.01, 0.1, 1],\\n    'min_samples_leaf': [1, 5, 10]\\n}\\n\\n#Create gbr\\ngbr_model = GradientBoostingRegressor(random_state=42)\\n#Initialize grid search\\ngbr_grid_search = GridSearchCV(gbr_model, gbr_param_grid, cv=5, scoring='neg_mean_squared_error', verbose=2, n_jobs=-1)\\ngbr_grid_search.fit(X_train_pca, y_train)\\n\""
            ]
          },
          "execution_count": 85,
          "metadata": {},
          "output_type": "execute_result"
        }
      ],
      "source": [
        "#Extract the optimal combination of parameters from the grid search\n",
        "gbr_optimal_params = {\n",
        "    'max_depth': 3,\n",
        "    'learning_rate': 0.1,\n",
        "    'n_estimators': 100\n",
        "}\n",
        "\n",
        "'''\n",
        "This is the code that was run to obtain those optimal parameters\n",
        "#Initial hyperparameter grid based on conventional values\n",
        "gbr_param_grid = {\n",
        "    'n_estimators': [50, 100, 200],\n",
        "    'max_depth': [3, 5, 7],\n",
        "    'learning_rate': [0.01, 0.1, 1],\n",
        "    'min_samples_leaf': [1, 5, 10]\n",
        "}\n",
        "\n",
        "#Create gbr\n",
        "gbr_model = GradientBoostingRegressor(random_state=42)\n",
        "#Initialize grid search\n",
        "gbr_grid_search = GridSearchCV(gbr_model, gbr_param_grid, cv=5, scoring='neg_mean_squared_error', verbose=2, n_jobs=-1)\n",
        "gbr_grid_search.fit(X_train_pca, y_train)\n",
        "'''"
      ]
    },
    {
      "cell_type": "code",
      "execution_count": null,
      "metadata": {
        "colab": {
          "base_uri": "https://localhost:8080/",
          "height": 75
        },
        "id": "Vvt_4-KF-U69",
        "outputId": "a491c885-bb73-4625-ed56-051663e5bb8d"
      },
      "outputs": [
        {
          "data": {
            "text/html": [
              "<style>#sk-container-id-2 {color: black;background-color: white;}#sk-container-id-2 pre{padding: 0;}#sk-container-id-2 div.sk-toggleable {background-color: white;}#sk-container-id-2 label.sk-toggleable__label {cursor: pointer;display: block;width: 100%;margin-bottom: 0;padding: 0.3em;box-sizing: border-box;text-align: center;}#sk-container-id-2 label.sk-toggleable__label-arrow:before {content: \"▸\";float: left;margin-right: 0.25em;color: #696969;}#sk-container-id-2 label.sk-toggleable__label-arrow:hover:before {color: black;}#sk-container-id-2 div.sk-estimator:hover label.sk-toggleable__label-arrow:before {color: black;}#sk-container-id-2 div.sk-toggleable__content {max-height: 0;max-width: 0;overflow: hidden;text-align: left;background-color: #f0f8ff;}#sk-container-id-2 div.sk-toggleable__content pre {margin: 0.2em;color: black;border-radius: 0.25em;background-color: #f0f8ff;}#sk-container-id-2 input.sk-toggleable__control:checked~div.sk-toggleable__content {max-height: 200px;max-width: 100%;overflow: auto;}#sk-container-id-2 input.sk-toggleable__control:checked~label.sk-toggleable__label-arrow:before {content: \"▾\";}#sk-container-id-2 div.sk-estimator input.sk-toggleable__control:checked~label.sk-toggleable__label {background-color: #d4ebff;}#sk-container-id-2 div.sk-label input.sk-toggleable__control:checked~label.sk-toggleable__label {background-color: #d4ebff;}#sk-container-id-2 input.sk-hidden--visually {border: 0;clip: rect(1px 1px 1px 1px);clip: rect(1px, 1px, 1px, 1px);height: 1px;margin: -1px;overflow: hidden;padding: 0;position: absolute;width: 1px;}#sk-container-id-2 div.sk-estimator {font-family: monospace;background-color: #f0f8ff;border: 1px dotted black;border-radius: 0.25em;box-sizing: border-box;margin-bottom: 0.5em;}#sk-container-id-2 div.sk-estimator:hover {background-color: #d4ebff;}#sk-container-id-2 div.sk-parallel-item::after {content: \"\";width: 100%;border-bottom: 1px solid gray;flex-grow: 1;}#sk-container-id-2 div.sk-label:hover label.sk-toggleable__label {background-color: #d4ebff;}#sk-container-id-2 div.sk-serial::before {content: \"\";position: absolute;border-left: 1px solid gray;box-sizing: border-box;top: 0;bottom: 0;left: 50%;z-index: 0;}#sk-container-id-2 div.sk-serial {display: flex;flex-direction: column;align-items: center;background-color: white;padding-right: 0.2em;padding-left: 0.2em;position: relative;}#sk-container-id-2 div.sk-item {position: relative;z-index: 1;}#sk-container-id-2 div.sk-parallel {display: flex;align-items: stretch;justify-content: center;background-color: white;position: relative;}#sk-container-id-2 div.sk-item::before, #sk-container-id-2 div.sk-parallel-item::before {content: \"\";position: absolute;border-left: 1px solid gray;box-sizing: border-box;top: 0;bottom: 0;left: 50%;z-index: -1;}#sk-container-id-2 div.sk-parallel-item {display: flex;flex-direction: column;z-index: 1;position: relative;background-color: white;}#sk-container-id-2 div.sk-parallel-item:first-child::after {align-self: flex-end;width: 50%;}#sk-container-id-2 div.sk-parallel-item:last-child::after {align-self: flex-start;width: 50%;}#sk-container-id-2 div.sk-parallel-item:only-child::after {width: 0;}#sk-container-id-2 div.sk-dashed-wrapped {border: 1px dashed gray;margin: 0 0.4em 0.5em 0.4em;box-sizing: border-box;padding-bottom: 0.4em;background-color: white;}#sk-container-id-2 div.sk-label label {font-family: monospace;font-weight: bold;display: inline-block;line-height: 1.2em;}#sk-container-id-2 div.sk-label-container {text-align: center;}#sk-container-id-2 div.sk-container {/* jupyter's `normalize.less` sets `[hidden] { display: none; }` but bootstrap.min.css set `[hidden] { display: none !important; }` so we also need the `!important` here to be able to override the default hidden behavior on the sphinx rendered scikit-learn.org. See: https://github.com/scikit-learn/scikit-learn/issues/21755 */display: inline-block !important;position: relative;}#sk-container-id-2 div.sk-text-repr-fallback {display: none;}</style><div id=\"sk-container-id-2\" class=\"sk-top-container\"><div class=\"sk-text-repr-fallback\"><pre>GradientBoostingRegressor(random_state=42)</pre><b>In a Jupyter environment, please rerun this cell to show the HTML representation or trust the notebook. <br />On GitHub, the HTML representation is unable to render, please try loading this page with nbviewer.org.</b></div><div class=\"sk-container\" hidden><div class=\"sk-item\"><div class=\"sk-estimator sk-toggleable\"><input class=\"sk-toggleable__control sk-hidden--visually\" id=\"sk-estimator-id-2\" type=\"checkbox\" checked><label for=\"sk-estimator-id-2\" class=\"sk-toggleable__label sk-toggleable__label-arrow\">GradientBoostingRegressor</label><div class=\"sk-toggleable__content\"><pre>GradientBoostingRegressor(random_state=42)</pre></div></div></div></div></div>"
            ],
            "text/plain": [
              "GradientBoostingRegressor(random_state=42)"
            ]
          },
          "execution_count": 86,
          "metadata": {},
          "output_type": "execute_result"
        }
      ],
      "source": [
        "# Initializing the Gradient Boosting Regressor\n",
        "optimal_gbr_model = GradientBoostingRegressor(n_estimators=100, learning_rate=0.1, max_depth=3, random_state=42)\n",
        "\n",
        "# Fitting the GBR on the training data post PCA\n",
        "optimal_gbr_model.fit(X_train_le, y_train)"
      ]
    },
    {
      "cell_type": "markdown",
      "metadata": {
        "id": "S6EBWrsreAi-"
      },
      "source": [
        "### 5.3.2 Gradient Boosting Regression Feature Importance"
      ]
    },
    {
      "cell_type": "code",
      "execution_count": null,
      "metadata": {
        "id": "pHsMc2iCdcqM"
      },
      "outputs": [],
      "source": [
        "#Extract feature importances from the model\n",
        "gbr_feature_importances = optimal_gbr_model.feature_importances_\n",
        "\n",
        "# Create a DataFrame to display feature importances\n",
        "gbr_importance_df = pd.DataFrame({'Feature': X.columns, 'Importance': gbr_feature_importances})\n",
        "gbr_importance_df = gbr_importance_df.sort_values(by='Importance', ascending=False)"
      ]
    },
    {
      "cell_type": "code",
      "execution_count": null,
      "metadata": {
        "colab": {
          "base_uri": "https://localhost:8080/",
          "height": 617
        },
        "id": "F8NmskMNelyK",
        "outputId": "b1fcd27a-1568-4718-da2e-e5373b9923ce"
      },
      "outputs": [
        {
          "data": {
            "text/html": [
              "<html>\n",
              "<head><meta charset=\"utf-8\" /></head>\n",
              "<body>\n",
              "    <div>            <script src=\"https://cdnjs.cloudflare.com/ajax/libs/mathjax/2.7.5/MathJax.js?config=TeX-AMS-MML_SVG\"></script><script type=\"text/javascript\">if (window.MathJax && window.MathJax.Hub && window.MathJax.Hub.Config) {window.MathJax.Hub.Config({SVG: {font: \"STIX-Web\"}});}</script>                <script type=\"text/javascript\">window.PlotlyConfig = {MathJaxConfig: 'local'};</script>\n",
              "        <script charset=\"utf-8\" src=\"https://cdn.plot.ly/plotly-2.24.1.min.js\"></script>                <div id=\"1d009a8f-dee5-4160-86ca-d4e0f6152c48\" class=\"plotly-graph-div\" style=\"height:600px; width:1000px;\"></div>            <script type=\"text/javascript\">                                    window.PLOTLYENV=window.PLOTLYENV || {};                                    if (document.getElementById(\"1d009a8f-dee5-4160-86ca-d4e0f6152c48\")) {                    Plotly.newPlot(                        \"1d009a8f-dee5-4160-86ca-d4e0f6152c48\",                        [{\"marker\":{\"color\":\"skyblue\"},\"x\":[\"odometer\",\"year\",\"body_type\",\"make\",\"condition\",\"interior\",\"color\",\"state\",\"transmission\"],\"y\":[0.34993460129856013,0.2121368928274595,0.20326452600100584,0.1492914461474084,0.07382180599169255,0.008488259139608057,0.0018347968538100028,0.0010938554282006968,0.00013381631225482758],\"type\":\"bar\"}],                        {\"template\":{\"data\":{\"histogram2dcontour\":[{\"type\":\"histogram2dcontour\",\"colorbar\":{\"outlinewidth\":0,\"ticks\":\"\"},\"colorscale\":[[0.0,\"#0d0887\"],[0.1111111111111111,\"#46039f\"],[0.2222222222222222,\"#7201a8\"],[0.3333333333333333,\"#9c179e\"],[0.4444444444444444,\"#bd3786\"],[0.5555555555555556,\"#d8576b\"],[0.6666666666666666,\"#ed7953\"],[0.7777777777777778,\"#fb9f3a\"],[0.8888888888888888,\"#fdca26\"],[1.0,\"#f0f921\"]]}],\"choropleth\":[{\"type\":\"choropleth\",\"colorbar\":{\"outlinewidth\":0,\"ticks\":\"\"}}],\"histogram2d\":[{\"type\":\"histogram2d\",\"colorbar\":{\"outlinewidth\":0,\"ticks\":\"\"},\"colorscale\":[[0.0,\"#0d0887\"],[0.1111111111111111,\"#46039f\"],[0.2222222222222222,\"#7201a8\"],[0.3333333333333333,\"#9c179e\"],[0.4444444444444444,\"#bd3786\"],[0.5555555555555556,\"#d8576b\"],[0.6666666666666666,\"#ed7953\"],[0.7777777777777778,\"#fb9f3a\"],[0.8888888888888888,\"#fdca26\"],[1.0,\"#f0f921\"]]}],\"heatmap\":[{\"type\":\"heatmap\",\"colorbar\":{\"outlinewidth\":0,\"ticks\":\"\"},\"colorscale\":[[0.0,\"#0d0887\"],[0.1111111111111111,\"#46039f\"],[0.2222222222222222,\"#7201a8\"],[0.3333333333333333,\"#9c179e\"],[0.4444444444444444,\"#bd3786\"],[0.5555555555555556,\"#d8576b\"],[0.6666666666666666,\"#ed7953\"],[0.7777777777777778,\"#fb9f3a\"],[0.8888888888888888,\"#fdca26\"],[1.0,\"#f0f921\"]]}],\"heatmapgl\":[{\"type\":\"heatmapgl\",\"colorbar\":{\"outlinewidth\":0,\"ticks\":\"\"},\"colorscale\":[[0.0,\"#0d0887\"],[0.1111111111111111,\"#46039f\"],[0.2222222222222222,\"#7201a8\"],[0.3333333333333333,\"#9c179e\"],[0.4444444444444444,\"#bd3786\"],[0.5555555555555556,\"#d8576b\"],[0.6666666666666666,\"#ed7953\"],[0.7777777777777778,\"#fb9f3a\"],[0.8888888888888888,\"#fdca26\"],[1.0,\"#f0f921\"]]}],\"contourcarpet\":[{\"type\":\"contourcarpet\",\"colorbar\":{\"outlinewidth\":0,\"ticks\":\"\"}}],\"contour\":[{\"type\":\"contour\",\"colorbar\":{\"outlinewidth\":0,\"ticks\":\"\"},\"colorscale\":[[0.0,\"#0d0887\"],[0.1111111111111111,\"#46039f\"],[0.2222222222222222,\"#7201a8\"],[0.3333333333333333,\"#9c179e\"],[0.4444444444444444,\"#bd3786\"],[0.5555555555555556,\"#d8576b\"],[0.6666666666666666,\"#ed7953\"],[0.7777777777777778,\"#fb9f3a\"],[0.8888888888888888,\"#fdca26\"],[1.0,\"#f0f921\"]]}],\"surface\":[{\"type\":\"surface\",\"colorbar\":{\"outlinewidth\":0,\"ticks\":\"\"},\"colorscale\":[[0.0,\"#0d0887\"],[0.1111111111111111,\"#46039f\"],[0.2222222222222222,\"#7201a8\"],[0.3333333333333333,\"#9c179e\"],[0.4444444444444444,\"#bd3786\"],[0.5555555555555556,\"#d8576b\"],[0.6666666666666666,\"#ed7953\"],[0.7777777777777778,\"#fb9f3a\"],[0.8888888888888888,\"#fdca26\"],[1.0,\"#f0f921\"]]}],\"mesh3d\":[{\"type\":\"mesh3d\",\"colorbar\":{\"outlinewidth\":0,\"ticks\":\"\"}}],\"scatter\":[{\"fillpattern\":{\"fillmode\":\"overlay\",\"size\":10,\"solidity\":0.2},\"type\":\"scatter\"}],\"parcoords\":[{\"type\":\"parcoords\",\"line\":{\"colorbar\":{\"outlinewidth\":0,\"ticks\":\"\"}}}],\"scatterpolargl\":[{\"type\":\"scatterpolargl\",\"marker\":{\"colorbar\":{\"outlinewidth\":0,\"ticks\":\"\"}}}],\"bar\":[{\"error_x\":{\"color\":\"#2a3f5f\"},\"error_y\":{\"color\":\"#2a3f5f\"},\"marker\":{\"line\":{\"color\":\"#E5ECF6\",\"width\":0.5},\"pattern\":{\"fillmode\":\"overlay\",\"size\":10,\"solidity\":0.2}},\"type\":\"bar\"}],\"scattergeo\":[{\"type\":\"scattergeo\",\"marker\":{\"colorbar\":{\"outlinewidth\":0,\"ticks\":\"\"}}}],\"scatterpolar\":[{\"type\":\"scatterpolar\",\"marker\":{\"colorbar\":{\"outlinewidth\":0,\"ticks\":\"\"}}}],\"histogram\":[{\"marker\":{\"pattern\":{\"fillmode\":\"overlay\",\"size\":10,\"solidity\":0.2}},\"type\":\"histogram\"}],\"scattergl\":[{\"type\":\"scattergl\",\"marker\":{\"colorbar\":{\"outlinewidth\":0,\"ticks\":\"\"}}}],\"scatter3d\":[{\"type\":\"scatter3d\",\"line\":{\"colorbar\":{\"outlinewidth\":0,\"ticks\":\"\"}},\"marker\":{\"colorbar\":{\"outlinewidth\":0,\"ticks\":\"\"}}}],\"scattermapbox\":[{\"type\":\"scattermapbox\",\"marker\":{\"colorbar\":{\"outlinewidth\":0,\"ticks\":\"\"}}}],\"scatterternary\":[{\"type\":\"scatterternary\",\"marker\":{\"colorbar\":{\"outlinewidth\":0,\"ticks\":\"\"}}}],\"scattercarpet\":[{\"type\":\"scattercarpet\",\"marker\":{\"colorbar\":{\"outlinewidth\":0,\"ticks\":\"\"}}}],\"carpet\":[{\"aaxis\":{\"endlinecolor\":\"#2a3f5f\",\"gridcolor\":\"white\",\"linecolor\":\"white\",\"minorgridcolor\":\"white\",\"startlinecolor\":\"#2a3f5f\"},\"baxis\":{\"endlinecolor\":\"#2a3f5f\",\"gridcolor\":\"white\",\"linecolor\":\"white\",\"minorgridcolor\":\"white\",\"startlinecolor\":\"#2a3f5f\"},\"type\":\"carpet\"}],\"table\":[{\"cells\":{\"fill\":{\"color\":\"#EBF0F8\"},\"line\":{\"color\":\"white\"}},\"header\":{\"fill\":{\"color\":\"#C8D4E3\"},\"line\":{\"color\":\"white\"}},\"type\":\"table\"}],\"barpolar\":[{\"marker\":{\"line\":{\"color\":\"#E5ECF6\",\"width\":0.5},\"pattern\":{\"fillmode\":\"overlay\",\"size\":10,\"solidity\":0.2}},\"type\":\"barpolar\"}],\"pie\":[{\"automargin\":true,\"type\":\"pie\"}]},\"layout\":{\"autotypenumbers\":\"strict\",\"colorway\":[\"#636efa\",\"#EF553B\",\"#00cc96\",\"#ab63fa\",\"#FFA15A\",\"#19d3f3\",\"#FF6692\",\"#B6E880\",\"#FF97FF\",\"#FECB52\"],\"font\":{\"color\":\"#2a3f5f\"},\"hovermode\":\"closest\",\"hoverlabel\":{\"align\":\"left\"},\"paper_bgcolor\":\"white\",\"plot_bgcolor\":\"#E5ECF6\",\"polar\":{\"bgcolor\":\"#E5ECF6\",\"angularaxis\":{\"gridcolor\":\"white\",\"linecolor\":\"white\",\"ticks\":\"\"},\"radialaxis\":{\"gridcolor\":\"white\",\"linecolor\":\"white\",\"ticks\":\"\"}},\"ternary\":{\"bgcolor\":\"#E5ECF6\",\"aaxis\":{\"gridcolor\":\"white\",\"linecolor\":\"white\",\"ticks\":\"\"},\"baxis\":{\"gridcolor\":\"white\",\"linecolor\":\"white\",\"ticks\":\"\"},\"caxis\":{\"gridcolor\":\"white\",\"linecolor\":\"white\",\"ticks\":\"\"}},\"coloraxis\":{\"colorbar\":{\"outlinewidth\":0,\"ticks\":\"\"}},\"colorscale\":{\"sequential\":[[0.0,\"#0d0887\"],[0.1111111111111111,\"#46039f\"],[0.2222222222222222,\"#7201a8\"],[0.3333333333333333,\"#9c179e\"],[0.4444444444444444,\"#bd3786\"],[0.5555555555555556,\"#d8576b\"],[0.6666666666666666,\"#ed7953\"],[0.7777777777777778,\"#fb9f3a\"],[0.8888888888888888,\"#fdca26\"],[1.0,\"#f0f921\"]],\"sequentialminus\":[[0.0,\"#0d0887\"],[0.1111111111111111,\"#46039f\"],[0.2222222222222222,\"#7201a8\"],[0.3333333333333333,\"#9c179e\"],[0.4444444444444444,\"#bd3786\"],[0.5555555555555556,\"#d8576b\"],[0.6666666666666666,\"#ed7953\"],[0.7777777777777778,\"#fb9f3a\"],[0.8888888888888888,\"#fdca26\"],[1.0,\"#f0f921\"]],\"diverging\":[[0,\"#8e0152\"],[0.1,\"#c51b7d\"],[0.2,\"#de77ae\"],[0.3,\"#f1b6da\"],[0.4,\"#fde0ef\"],[0.5,\"#f7f7f7\"],[0.6,\"#e6f5d0\"],[0.7,\"#b8e186\"],[0.8,\"#7fbc41\"],[0.9,\"#4d9221\"],[1,\"#276419\"]]},\"xaxis\":{\"gridcolor\":\"white\",\"linecolor\":\"white\",\"ticks\":\"\",\"title\":{\"standoff\":15},\"zerolinecolor\":\"white\",\"automargin\":true,\"zerolinewidth\":2},\"yaxis\":{\"gridcolor\":\"white\",\"linecolor\":\"white\",\"ticks\":\"\",\"title\":{\"standoff\":15},\"zerolinecolor\":\"white\",\"automargin\":true,\"zerolinewidth\":2},\"scene\":{\"xaxis\":{\"backgroundcolor\":\"#E5ECF6\",\"gridcolor\":\"white\",\"linecolor\":\"white\",\"showbackground\":true,\"ticks\":\"\",\"zerolinecolor\":\"white\",\"gridwidth\":2},\"yaxis\":{\"backgroundcolor\":\"#E5ECF6\",\"gridcolor\":\"white\",\"linecolor\":\"white\",\"showbackground\":true,\"ticks\":\"\",\"zerolinecolor\":\"white\",\"gridwidth\":2},\"zaxis\":{\"backgroundcolor\":\"#E5ECF6\",\"gridcolor\":\"white\",\"linecolor\":\"white\",\"showbackground\":true,\"ticks\":\"\",\"zerolinecolor\":\"white\",\"gridwidth\":2}},\"shapedefaults\":{\"line\":{\"color\":\"#2a3f5f\"}},\"annotationdefaults\":{\"arrowcolor\":\"#2a3f5f\",\"arrowhead\":0,\"arrowwidth\":1},\"geo\":{\"bgcolor\":\"white\",\"landcolor\":\"#E5ECF6\",\"subunitcolor\":\"white\",\"showland\":true,\"showlakes\":true,\"lakecolor\":\"white\"},\"title\":{\"x\":0.05},\"mapbox\":{\"style\":\"light\"}}},\"xaxis\":{\"title\":{\"text\":\"Feature\"},\"tickangle\":-90},\"title\":{\"text\":\"Feature Importances\"},\"yaxis\":{\"title\":{\"text\":\"Importance\"}},\"width\":1000,\"height\":600},                        {\"responsive\": true}                    ).then(function(){\n",
              "                            \n",
              "var gd = document.getElementById('1d009a8f-dee5-4160-86ca-d4e0f6152c48');\n",
              "var x = new MutationObserver(function (mutations, observer) {{\n",
              "        var display = window.getComputedStyle(gd).display;\n",
              "        if (!display || display === 'none') {{\n",
              "            console.log([gd, 'removed!']);\n",
              "            Plotly.purge(gd);\n",
              "            observer.disconnect();\n",
              "        }}\n",
              "}});\n",
              "\n",
              "// Listen for the removal of the full notebook cells\n",
              "var notebookContainer = gd.closest('#notebook-container');\n",
              "if (notebookContainer) {{\n",
              "    x.observe(notebookContainer, {childList: true});\n",
              "}}\n",
              "\n",
              "// Listen for the clearing of the current output cell\n",
              "var outputEl = gd.closest('.output');\n",
              "if (outputEl) {{\n",
              "    x.observe(outputEl, {childList: true});\n",
              "}}\n",
              "\n",
              "                        })                };                            </script>        </div>\n",
              "</body>\n",
              "</html>"
            ]
          },
          "metadata": {},
          "output_type": "display_data"
        }
      ],
      "source": [
        "#Plotting a bar graph to visually represent feature importances\n",
        "fig = go.Figure(go.Bar(\n",
        "    x=gbr_importance_df['Feature'],\n",
        "    y=gbr_importance_df['Importance'],\n",
        "    marker_color='skyblue'\n",
        "))\n",
        "\n",
        "# Update layout with title and axes titles\n",
        "fig.update_layout(\n",
        "    title='Feature Importances',\n",
        "    xaxis_title='Feature',\n",
        "    yaxis_title='Importance',\n",
        "    xaxis=dict(tickangle=-90),\n",
        "    width=1000,\n",
        "    height=600,\n",
        ")\n",
        "\n",
        "# Show the plot\n",
        "fig.show()"
      ]
    },
    {
      "cell_type": "markdown",
      "metadata": {
        "id": "rC3x9yb2eydX"
      },
      "source": [
        "### 5.3.3 Evaluating Gradient Boosting Regression"
      ]
    },
    {
      "cell_type": "code",
      "execution_count": null,
      "metadata": {
        "colab": {
          "base_uri": "https://localhost:8080/"
        },
        "id": "qglrNrnGeOAe",
        "outputId": "6cc079ad-f182-48b8-c36a-d8245610ac19"
      },
      "outputs": [
        {
          "name": "stdout",
          "output_type": "stream",
          "text": [
            "R-squared Test: 0.7367064609632648\n",
            "R-squared Train: 0.7361763288360431\n",
            "Mean Squared Error: 13382877.729341703\n"
          ]
        }
      ],
      "source": [
        "# Calculating the predicted values\n",
        "y_pred_test = optimal_gbr_model.predict(X_test_le)\n",
        "y_pred_train = optimal_gbr_model.predict(X_train_le)\n",
        "\n",
        "# Evaluate the model\n",
        "r2_train = r2_score(y_train, y_pred_train)\n",
        "r2_test = r2_score(y_test, y_pred_test)\n",
        "mse = mean_squared_error(y_test, y_pred_test)\n",
        "\n",
        "print('R-squared Test: ' + str(r2_train))\n",
        "print('R-squared Train: ' + str(r2_test))\n",
        "print('Mean Squared Error: ' + str(mse))"
      ]
    },
    {
      "cell_type": "markdown",
      "metadata": {
        "id": "X2pCl-LrQ72f"
      },
      "source": [
        "# Part 6: Conclusion"
      ]
    },
    {
      "cell_type": "markdown",
      "metadata": {
        "id": "rvWekqMsQ6ex"
      },
      "source": [
        "**Key Takeaways:**\n",
        "\n",
        "*  Our original data set contained MMR, which was highly\n",
        "correlated with selling price. When we run regressions containing `mmr`, we achieve high R^2 values. However, since we are trying to create our own model to predict the `sellingprice` from a consumer’s perspective, we decided to not use the `mmr` values in our prediction.\n",
        "*  Although our current model performs slightly worse than the `mmr` predictor, there is potential that when we add more features and complexities, our model will perform better.\n",
        "* `Odometer` was the most important feature in determining selling price. Obviously, there is a negative correlation between odometer and selling price.\n",
        "* Our best performing model is gradient boosting regression over a very slight edge on the random forest model. It gave us a test r^2 value of 0.737 and test RMSE of 3658.\n",
        "\n",
        "**Implications for Stakeholders:**\n",
        "\n",
        "*   Car sellers should highlight low mileage as a key selling\n",
        "point. In vehicles with high mileage, sellers should make an effort to market the other more desirable features of the car.\n",
        "\n",
        "**Limitations of the Models:**\n",
        "\n",
        "\n",
        "*   Because trends in the market change drastically over time and even over the course of one year, the models probably have limited applicability to the future\n",
        "\n",
        "\n",
        "**Challenges:**\n",
        "\n",
        "* Finding the optimal parameters for models and fitting them was sometimes time-consuming, which elongated our work time by hours sometimes.\n",
        "* Dealing with categorical variables posed challenges as there were so many unique values, and trying different encoding methods sometimes left us inconclusive for further steps like model implementation.\n",
        "* Debugging and complying with certain requirements of models/functions forced us to do additional research on top of reviewing the lecture material.\n",
        "\n",
        "**Future Steps:**\n",
        "* Replace categorical variables with a high number of unique values (ex. `make`, `color`) with numerical data about consumer preferences regarding that category. For example, there are safety ratings for each model published online. This would prevent the issues we ran into with encoding and provide valuable information for the model. We attempted to find another dataset with this information that we could join with our dataset, but none existed. We would have to create such a dataset ourselves, which would require us to code a web scraper. This was impractical given the time constraints.\n",
        "* Further refine the hyperparameters for Random Forest and Gradient Boost using methods such as Grid Search.\n"
      ]
    }
  ],
  "metadata": {
    "colab": {
      "provenance": [],
      "toc_visible": true
    },
    "kernelspec": {
      "display_name": "Python 3",
      "name": "python3"
    },
    "language_info": {
      "name": "python"
    }
  },
  "nbformat": 4,
  "nbformat_minor": 0
}